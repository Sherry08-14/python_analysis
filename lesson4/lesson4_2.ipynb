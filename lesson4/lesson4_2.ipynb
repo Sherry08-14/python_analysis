{
 "cells": [
  {
   "cell_type": "markdown",
   "id": "1064d105",
   "metadata": {},
   "source": [
    "if->流程控制"
   ]
  },
  {
   "cell_type": "code",
   "execution_count": 1,
   "id": "2c486efc",
   "metadata": {},
   "outputs": [
    {
     "name": "stdout",
     "output_type": "stream",
     "text": [
      "這是單項選擇\n",
      "這是True的程式區塊\n"
     ]
    }
   ],
   "source": [
    "if True:\n",
    "    print(\"這是單項選擇\")\n",
    "    print(\"這是True的程式區塊\")"
   ]
  },
  {
   "cell_type": "code",
   "execution_count": 2,
   "id": "37453792",
   "metadata": {},
   "outputs": [
    {
     "name": "stdout",
     "output_type": "stream",
     "text": [
      "這是雙項選擇\n",
      "這是False的程式區塊\n"
     ]
    }
   ],
   "source": [
    "if False:\n",
    "    print(\"這是雙項選擇\")\n",
    "    print(\"這是True的程式區塊\")\n",
    "else:\n",
    "    print(\"這是雙項選擇\")\n",
    "    print(\"這是False的程式區塊\")"
   ]
  },
  {
   "cell_type": "code",
   "execution_count": 3,
   "id": "5851c098",
   "metadata": {},
   "outputs": [
    {
     "data": {
      "text/plain": [
       "False"
      ]
     },
     "execution_count": 3,
     "metadata": {},
     "output_type": "execute_result"
    }
   ],
   "source": [
    "5 > 3\n",
    "20 == 20\n",
    "20 != 20"
   ]
  },
  {
   "cell_type": "code",
   "execution_count": 5,
   "id": "c18c00c9",
   "metadata": {},
   "outputs": [
    {
     "name": "stdout",
     "output_type": "stream",
     "text": [
      "成年\n"
     ]
    }
   ],
   "source": [
    "age = int(input(\"請輸入age:\"))\n",
    "if age < 18:\n",
    "    print(\"未成年\")\n",
    "else:\n",
    "    print(\"成年\")"
   ]
  },
  {
   "cell_type": "markdown",
   "id": "264df515",
   "metadata": {},
   "source": [
    "學生總分為300\n",
    "有些學生可以加分5%\n",
    "如果加分超過300,就以300分為準"
   ]
  },
  {
   "cell_type": "code",
   "execution_count": null,
   "id": "37a49b4d",
   "metadata": {},
   "outputs": [],
   "source": [
    "scores = int(input(\"請輸入學生分數(最高300分):\"))\n",
    "is_add = input(\"學生是否符合加分條件?(y,n)\")\n",
    "if (is_add == \"y\"):\n",
    "    scores *= 1.05\n",
    "    if scores > 300:\n",
    "        scores = 300\n",
    "\n",
    "print(f\"學生分數是:{round(scores)}\")"
   ]
  },
  {
   "cell_type": "markdown",
   "id": "7029ba9a",
   "metadata": {},
   "source": [
    "處理raise Exception ** try: except:處理錯誤"
   ]
  },
  {
   "cell_type": "code",
   "execution_count": 6,
   "id": "dd289222",
   "metadata": {},
   "outputs": [
    {
     "name": "stdout",
     "output_type": "stream",
     "text": [
      "發生錯誤\n"
     ]
    }
   ],
   "source": [
    "try:\n",
    "    25 / 0\n",
    "except:\n",
    "    print(\"發生錯誤\")"
   ]
  },
  {
   "cell_type": "code",
   "execution_count": 7,
   "id": "cd0e8cf4",
   "metadata": {},
   "outputs": [
    {
     "name": "stdout",
     "output_type": "stream",
     "text": [
      "發生錯誤\n",
      "程式結束\n"
     ]
    }
   ],
   "source": [
    "divitionBy = 0\n",
    "try:\n",
    "    print(25 / divitionBy)\n",
    "except:\n",
    "    print(\"發生錯誤\")\n",
    "\n",
    "print(\"程式結束\")"
   ]
  },
  {
   "cell_type": "code",
   "execution_count": 8,
   "id": "0ceb9313",
   "metadata": {},
   "outputs": [
    {
     "name": "stdout",
     "output_type": "stream",
     "text": [
      "發生不知名的錯誤\n",
      "程式結束\n"
     ]
    }
   ],
   "source": [
    "divitionBy = 0\n",
    "try:\n",
    "    print(30 / \"10\")\n",
    "    print(25 / divitionBy)\n",
    "except ZeroDivisionError:\n",
    "    print(\"除數不可以是0\")\n",
    "except:\n",
    "    print(\"發生不知名的錯誤\")\n",
    "\n",
    "print(\"程式結束\")"
   ]
  },
  {
   "cell_type": "code",
   "execution_count": 9,
   "id": "80e3d7ea",
   "metadata": {},
   "outputs": [
    {
     "name": "stdout",
     "output_type": "stream",
     "text": [
      "學生分數是:300\n",
      "應用程式結束\n"
     ]
    }
   ],
   "source": [
    "try:\n",
    "    scores = int(input(\"請輸入學生分數(最高300分):\"))\n",
    "    is_add = input(\"學生是否符合加分條件?(y,n)\")\n",
    "    if (is_add == \"y\"):\n",
    "        scores *= 1.05\n",
    "        if scores > 300:\n",
    "            scores = 300\n",
    "\n",
    "    print(f\"學生分數是:{round(scores)}\")\n",
    "except:\n",
    "    print(\"發生不知名錯誤!\")\n",
    "print(\"應用程式結束\")"
   ]
  },
  {
   "cell_type": "markdown",
   "id": "8c604e4a",
   "metadata": {},
   "source": [
    "課後作業\n",
    "輸入一個整數，判斷它是偶數還是奇數\n",
    "Criteria:\n",
    "讓使用者輸入1數值\n",
    "輸出判斷是奇數還是偶數\n",
    "如果使用者輸入�,無法轉換為數值,請輸出錯誤訊息\n"
   ]
  },
  {
   "cell_type": "code",
   "execution_count": 29,
   "id": "69a74866",
   "metadata": {},
   "outputs": [
    {
     "name": "stdout",
     "output_type": "stream",
     "text": [
      "錯誤! 請重新輸入有效的數值\n",
      "應用程式結束\n"
     ]
    }
   ],
   "source": [
    "try:\n",
    "    number = int(input(\"請輸入一個數值: \"))\n",
    "    if number % 2 == 0:\n",
    "        print(f\"{number} 是偶數\")\n",
    "    else:\n",
    "        print(f\"{number} 是奇數\")\n",
    "except ValueError:\n",
    "    print(f\"錯誤! 請重新輸入有效的數值\")\n",
    "\n",
    "print(\"應用程式結束\")"
   ]
  }
 ],
 "metadata": {
  "kernelspec": {
   "display_name": "base",
   "language": "python",
   "name": "python3"
  },
  "language_info": {
   "codemirror_mode": {
    "name": "ipython",
    "version": 3
   },
   "file_extension": ".py",
   "mimetype": "text/x-python",
   "name": "python",
   "nbconvert_exporter": "python",
   "pygments_lexer": "ipython3",
   "version": "3.12.7"
  }
 },
 "nbformat": 4,
 "nbformat_minor": 5
}
