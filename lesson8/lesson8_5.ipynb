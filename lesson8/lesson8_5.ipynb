{
 "cells": [
  {
   "cell_type": "code",
   "execution_count": 9,
   "id": "72d1ad1b",
   "metadata": {},
   "outputs": [],
   "source": [
    "students:list[dict] = [\n",
    "    {\"name\":\"小明\",\"chinese\":85,\"english\":92,\"math\":78},\n",
    "    {\"name\":\"小華\",\"chinese\":90,\"english\":88,\"math\":95},\n",
    "    {\"name\":\"小美\",\"chinese\":79,\"english\":85,\"math\":90},\n",
    "    {\"name\":\"小強\",\"chinese\":88,\"english\":92,\"math\":87},\n",
    "    {\"name\":\"小麗\",\"chinese\":89,\"english\":89,\"math\":93}\n",
    "]"
   ]
  },
  {
   "cell_type": "code",
   "execution_count": null,
   "id": "8e07d612",
   "metadata": {},
   "outputs": [],
   "source": []
  },
  {
   "cell_type": "code",
   "execution_count": null,
   "id": "e994f9bf",
   "metadata": {},
   "outputs": [],
   "source": []
  },
  {
   "cell_type": "code",
   "execution_count": 1,
   "id": "140abbd5",
   "metadata": {},
   "outputs": [
    {
     "name": "stdout",
     "output_type": "stream",
     "text": [
      "90分以上的人有:小華 小麗 "
     ]
    }
   ],
   "source": [
    "students:list[dict] = [\n",
    "    {\"name\": \"小明\", \"chinese\": 85, \"english\": 92, \"math\": 78},\n",
    "    {\"name\": \"小華\", \"chinese\": 90, \"english\": 88, \"math\": 95},\n",
    "    {\"name\": \"小美\", \"chinese\": 79, \"english\": 85, \"math\": 90},\n",
    "    {\"name\": \"小強\", \"chinese\": 88, \"english\": 92, \"math\": 87},\n",
    "    {\"name\": \"小麗\", \"chinese\": 95, \"english\": 89, \"math\": 93}\n",
    "]\n",
    "\n",
    "p =list(filter(lambda x: x['chinese']>=90,students))\n",
    "\n",
    "print(\"90分以上的人有:\",end='')\n",
    "for student in p:\n",
    "    print(student[\"name\"],end=' ')"
   ]
  },
  {
   "cell_type": "code",
   "execution_count": 12,
   "id": "2bdb5dbd",
   "metadata": {},
   "outputs": [
    {
     "name": "stdout",
     "output_type": "stream",
     "text": [
      "小明\n",
      "國文85\n",
      "英文92\n",
      "數學78\n",
      "==========\n",
      "小華\n",
      "國文90\n",
      "英文88\n",
      "數學95\n",
      "==========\n",
      "小美\n",
      "國文79\n",
      "英文85\n",
      "數學90\n",
      "==========\n",
      "小強\n",
      "國文88\n",
      "英文92\n",
      "數學87\n",
      "==========\n",
      "小麗\n",
      "國文89\n",
      "英文89\n",
      "數學93\n",
      "==========\n"
     ]
    }
   ],
   "source": [
    "for student in students:\n",
    "    print(student['name'])\n",
    "    print(f\"國文{student['chinese']}\")\n",
    "    print(f\"英文{student['english']}\")\n",
    "    print(f\"數學{student['math']}\")\n",
    "\n",
    "    print(\"==========\")"
   ]
  },
  {
   "cell_type": "code",
   "execution_count": 15,
   "id": "26f2d78e",
   "metadata": {},
   "outputs": [
    {
     "name": "stdout",
     "output_type": "stream",
     "text": [
      "小明\n",
      "國文:85\n",
      "==========\n",
      "小華\n",
      "國文:90\n",
      "==========\n",
      "小美\n",
      "國文:79\n",
      "==========\n",
      "小強\n",
      "國文:88\n",
      "==========\n",
      "小麗\n",
      "國文:89\n",
      "==========\n"
     ]
    }
   ],
   "source": [
    "for student in students:\n",
    "    print(student['name'])\n",
    "    print(f\"國文:{student['chinese']}\")\n",
    "\n",
    "    print(\"==========\")"
   ]
  },
  {
   "cell_type": "code",
   "execution_count": 17,
   "id": "c9eac9c0",
   "metadata": {},
   "outputs": [
    {
     "name": "stdout",
     "output_type": "stream",
     "text": [
      "90分以上的同學有:\n",
      "小華 90分\n",
      "小麗 95分\n"
     ]
    }
   ],
   "source": [
    "###請取出國文90分以上的同學\n",
    "###請使用filter()\n",
    "###請使用lambda\n",
    "\n",
    "students:list[dict] = [\n",
    "    {\"name\": \"小明\", \"chinese\": 85, \"english\": 92, \"math\": 78},\n",
    "    {\"name\": \"小華\", \"chinese\": 90, \"english\": 88, \"math\": 95},\n",
    "    {\"name\": \"小美\", \"chinese\": 79, \"english\": 85, \"math\": 90},\n",
    "    {\"name\": \"小強\", \"chinese\": 88, \"english\": 92, \"math\": 87},\n",
    "    {\"name\": \"小麗\", \"chinese\": 95, \"english\": 89, \"math\": 93}\n",
    "]\n",
    "\n",
    "Qualified = list(filter(lambda n: n[\"chinese\"] >= 90, students))\n",
    "print(\"90分以上的同學有:\")\n",
    "for student in Qualified:\n",
    "    print(f\"{student['name']} {student['chinese']}分\")"
   ]
  },
  {
   "cell_type": "code",
   "execution_count": 28,
   "id": "dec99b16",
   "metadata": {},
   "outputs": [
    {
     "name": "stdout",
     "output_type": "stream",
     "text": [
      "國文90分以上的同學:\n",
      "  小華: 90\n",
      "  小麗: 95\n"
     ]
    }
   ],
   "source": [
    "###請取出國文90分以上的同學\n",
    "###請使用filter()\n",
    "###請使用lambda\n",
    "\n",
    "students:list[dict] = [\n",
    "    {\"name\": \"小明\", \"chinese\": 85, \"english\": 92, \"math\": 78},\n",
    "    {\"name\": \"小華\", \"chinese\": 90, \"english\": 88, \"math\": 95},\n",
    "    {\"name\": \"小美\", \"chinese\": 79, \"english\": 85, \"math\": 90},\n",
    "    {\"name\": \"小強\", \"chinese\": 88, \"english\": 92, \"math\": 87},\n",
    "    {\"name\": \"小麗\", \"chinese\": 95, \"english\": 89, \"math\": 93}\n",
    "]\n",
    "\n",
    "Qualified=list(filter(lambda n: n[\"chinese\"] >= 90, students))\n",
    "print(\"國文90分以上的同學:\")\n",
    "for n in Qualified:\n",
    "    print(f\"  {n['name']}: {n['chinese']}\")"
   ]
  }
 ],
 "metadata": {
  "kernelspec": {
   "display_name": "base",
   "language": "python",
   "name": "python3"
  },
  "language_info": {
   "codemirror_mode": {
    "name": "ipython",
    "version": 3
   },
   "file_extension": ".py",
   "mimetype": "text/x-python",
   "name": "python",
   "nbconvert_exporter": "python",
   "pygments_lexer": "ipython3",
   "version": "3.12.7"
  }
 },
 "nbformat": 4,
 "nbformat_minor": 5
}
