{
 "cells": [
  {
   "cell_type": "code",
   "execution_count": null,
   "id": "166cc3b5",
   "metadata": {},
   "outputs": [],
   "source": [
    "#如何python取得目前專案內的name.txt的絶對位置\n",
    "```\n",
    "import os\n",
    "\n",
    "# 取得 name.txt 的絕對路徑\n",
    "absolute_path = os.path.abspath(\"name.txt\")\n",
    "print(absolute_path)\n",
    "```\n",
    "import os\n",
    "\n",
    "# 取得目前程式碼檔案所在的目錄\n",
    "current_dir = os.path.dirname(os.path.abspath(__file__))\n",
    "\n",
    "# 將檔案名稱與目錄合併，取得絕對路徑\n",
    "file_absolute_path = os.path.join(current_dir, \"name.txt\")\n",
    "\n",
    "print(file_absolute_path)\n",
    "```\n",
    "import os\n",
    "\n",
    "# 取得 name.txt 的絕對路徑\n",
    "absolute_path = os.path.abspath(\"name.txt\")\n",
    "print(absolute_path)\n",
    "```\n",
    "\n"
   ]
  },
  {
   "cell_type": "code",
   "execution_count": 3,
   "id": "6d8f9d99",
   "metadata": {},
   "outputs": [
    {
     "data": {
      "text/plain": [
       "{'__name__': '__main__',\n",
       " '__doc__': 'Automatically created module for IPython interactive environment',\n",
       " '__package__': None,\n",
       " '__loader__': None,\n",
       " '__spec__': None,\n",
       " '__builtin__': <module 'builtins' (built-in)>,\n",
       " '__builtins__': <module 'builtins' (built-in)>,\n",
       " '_ih': ['', '__file__', 'vars()\\n__file__', 'vars()'],\n",
       " '_oh': {},\n",
       " '_dh': [PosixPath('/workspaces/python_analysis/lesson10')],\n",
       " 'In': ['', '__file__', 'vars()\\n__file__', 'vars()'],\n",
       " 'Out': {},\n",
       " 'get_ipython': <bound method InteractiveShell.get_ipython of <ipykernel.zmqshell.ZMQInteractiveShell object at 0x715a2cf24cb0>>,\n",
       " 'exit': <IPython.core.autocall.ZMQExitAutocall at 0x715a2cf246b0>,\n",
       " 'quit': <IPython.core.autocall.ZMQExitAutocall at 0x715a2cf246b0>,\n",
       " 'open': <function _io.open(file, mode='r', buffering=-1, encoding=None, errors=None, newline=None, closefd=True, opener=None)>,\n",
       " '_': '',\n",
       " '__': '',\n",
       " '___': '',\n",
       " '__vsc_ipynb_file__': '/workspaces/python_analysis/lesson10/lesson10_1.ipynb',\n",
       " '_i': 'vars()\\n__file__',\n",
       " '_ii': '__file__',\n",
       " '_iii': '',\n",
       " '_i1': '__file__',\n",
       " '_i2': 'vars()\\n__file__',\n",
       " '_i3': 'vars()'}"
      ]
     },
     "execution_count": 3,
     "metadata": {},
     "output_type": "execute_result"
    }
   ],
   "source": [
    "vars()"
   ]
  },
  {
   "cell_type": "code",
   "execution_count": null,
   "id": "a75e77b3",
   "metadata": {},
   "outputs": [
    {
     "data": {
      "text/plain": [
       "'__file__'"
      ]
     },
     "execution_count": 4,
     "metadata": {},
     "output_type": "execute_result"
    }
   ],
   "source": [
    "'__file__'"
   ]
  },
  {
   "cell_type": "markdown",
   "id": "a660df27",
   "metadata": {},
   "source": [
    "常用的 str 實體方法\n",
    "len(s)\n",
    "取得字串長度（非方法，但常用）。\n",
    "\n",
    "s.find(sub)\n",
    "尋找子字串 sub 第一次出現的位置，找不到回傳 -1。\n",
    "\n",
    "s.index(sub)\n",
    "與 find 類似，但找不到會丟出例外。\n",
    "\n",
    "s.upper()\n",
    "將字串全部轉為大寫。\n",
    "\n",
    "s.lower()\n",
    "將字串全部轉為小寫。\n",
    "\n",
    "s.capitalize()\n",
    "將字串的第一個字母大寫，其餘小寫。\n",
    "\n",
    "s.title()\n",
    "將字串中每個單詞的首字母大寫，其餘小寫。\n",
    "\n",
    "s.swapcase()\n",
    "大小寫互換。\n",
    "\n",
    "s.strip()\n",
    "去除字串前後的空白或指定字元。\n",
    "\n",
    "s.replace(old, new, count)\n",
    "將字串中 old 替換為 new，可指定替換次數 count。\n",
    "\n",
    "s.split(sep)\n",
    "以分隔符 sep 拆分字串，回傳列表。\n",
    "\n",
    "sep.join(iterable)\n",
    "用字串 sep 將可迭代物件中的元素連接成字串（此為 str 類的類方法）。\n",
    "\n",
    "s.count(sub, start, end)\n",
    "計算子字串 sub 在字串中出現的次數。\n",
    "\n",
    "s.startswith(prefix)\n",
    "判斷字串是否以 prefix 開頭。\n",
    "\n",
    "s.endswith(suffix)\n",
    "判斷字串是否以 suffix 結尾。\n",
    "\n",
    "s.isalpha()\n",
    "判斷字串是否全部為字母。\n",
    "\n",
    "s.isdigit()\n",
    "判斷字串是否全部為數字。\n",
    "\n",
    "s.isalnum()\n",
    "判斷字串是否全部為字母或數字。\n",
    "\n",
    "s.islower()\n",
    "判斷字串是否全部為小寫。\n",
    "\n",
    "s.isupper()\n",
    "判斷字串是否全部為大寫。\n",
    "\n",
    "s.istitle()\n",
    "判斷字串是否為標題格式（每個單詞首字母大寫）。\n",
    "\n",
    "s.center(width, fillchar)\n",
    "將字串置中，並用 fillchar 填充寬度。\n",
    "\n",
    "以上方法大部分會回傳新的字串，原字串不會改變，因為 Python 字串是不可變（immutable）的資料型態【1】【2】【3】【5】。\n",
    "\n",
    "這些方法涵蓋字串查找、大小寫轉換、格式化、判斷、切割與合併等常見需求，適合日常字串處理使用。"
   ]
  },
  {
   "cell_type": "markdown",
   "id": "0b9ace8c",
   "metadata": {},
   "source": [
    "檔案開啟後需要關閉，是因為：\n",
    "\n",
    "釋放系統資源：開啟檔案會佔用系統資源，例如記憶體。關閉檔案可以釋放這些資源，讓其他程式可以使用。\n",
    "\n",
    "確保資料寫入：當你寫入資料到檔案時，資料可能先暫存在緩衝區。關閉檔案會強制將緩衝區的資料寫入到硬碟，確保資料不會遺失。\n",
    "\n",
    "避免檔案損壞或遺失：如果檔案沒有正確關閉，可能會導致資料遺失或檔案損壞.\n",
    "\n",
    "避免權限問題：未關閉的檔案可能會導致其他程式無法存取或刪除該檔案.\n",
    "\n",
    "如何關閉檔案\n",
    "使用 close() 方法：\n",
    "這是最直接的方式。在完成檔案操作後，呼叫 file.close() 關閉檔案.\n",
    "\n",
    "python\n",
    "file = open(abs_path, encoding='utf-8')\n",
    "# ... 進行檔案操作 ...\n",
    "file.close()\n",
    "使用 with 語句：\n",
    "with 語句會在程式區塊結束時自動關閉檔案，即使發生錯誤也會關閉，是更安全方便的方式.\n",
    "\n",
    "python\n",
    "with open(abs_path, 'r', encoding='utf-8') as file:\n",
    "    content = file.read()\n",
    "    print(content)\n",
    "# 檔案在這裡會自動關閉\n",
    "建議使用 with 語句，因為它可以確保檔案一定會被關閉，避免忘記關閉檔案可能導致的問題."
   ]
  },
  {
   "cell_type": "markdown",
   "id": "2e0f2e91",
   "metadata": {},
   "source": [
    "#python如何讀取name.txt的\n",
    "#-請用繁體中文回覆\n",
    "\n",
    "1. 一次讀取整個檔案內容\n",
    "python\n",
    "with open('name.txt', 'r', encoding='utf-8') as f:\n",
    "    content = f.read()\n",
    "    print(content)\n",
    "read() 會一次讀取整個檔案的所有文字【1】【3】【5】【6】。\n",
    "\n",
    "2. 逐行讀取檔案（讀取一行）\n",
    "python\n",
    "with open('name.txt', 'r', encoding='utf-8') as f:\n",
    "    line = f.readline()\n",
    "    while line:\n",
    "        print(line.strip())  # strip() 去除換行符號\n",
    "        line = f.readline()\n",
    "readline() 每次讀取一行，適合檔案較大時逐行處理【1】【3】【5】。\n",
    "\n",
    "3. 讀取所有行並以列表形式返回\n",
    "python\n",
    "with open('name.txt', 'r', encoding='utf-8') as f:\n",
    "    lines = f.readlines()\n",
    "    for line in lines:\n",
    "        print(line.strip())\n",
    "readlines() 會把檔案每一行讀成列表中的一個元素【3】【5】【8】。"
   ]
  },
  {
   "cell_type": "code",
   "execution_count": null,
   "id": "0a2b56b8",
   "metadata": {},
   "outputs": [],
   "source": [
    "import os\n",
    "file_name:str = 'names.txt'\n",
    "abs_path:str = os.path.abspath(file_name)\n",
    "file\n"
   ]
  },
  {
   "cell_type": "code",
   "execution_count": 13,
   "id": "6245d7b6",
   "metadata": {},
   "outputs": [
    {
     "data": {
      "text/plain": [
       "'陳怡伶\\n'"
      ]
     },
     "metadata": {},
     "output_type": "display_data"
    },
    {
     "name": "stdout",
     "output_type": "stream",
     "text": [
      "陳怡伶\n",
      "\n"
     ]
    }
   ],
   "source": [
    "display('陳怡伶\\n')#看到裡面的字元\n",
    "print('陳怡伶\\n')"
   ]
  },
  {
   "cell_type": "code",
   "execution_count": 32,
   "id": "dca98f1f",
   "metadata": {},
   "outputs": [
    {
     "ename": "SyntaxError",
     "evalue": "expected ':' (231045110.py, line 4)",
     "output_type": "error",
     "traceback": [
      "\u001b[0;36m  Cell \u001b[0;32mIn[32], line 4\u001b[0;36m\u001b[0m\n\u001b[0;31m    with open(abs_path,encoding='utf-8') as file  #不能用引數值open(abs_path,'utf-8')呼叫. 若沒依順序要用引數名稱呼叫\u001b[0m\n\u001b[0m                                                  ^\u001b[0m\n\u001b[0;31mSyntaxError\u001b[0m\u001b[0;31m:\u001b[0m expected ':'\n"
     ]
    }
   ],
   "source": [
    "import os\n",
    "file_name:str = 'names.txt'\n",
    "abs_path:str = os.path.abspath(file_name)\n",
    "with open(abs_path,encoding='utf-8') as file  #不能用引數值open(abs_path,'utf-8')呼叫. 若沒依順序要用引數名稱呼叫\n",
    "    names:list[str] = file.readlines()\n",
    "    #new_names = []#s.strip()可以去除字串前後的空白或指定字元\n",
    "    #ew_names = []\n",
    "    #for name in names:#s.strip()可以去除字串前後的空白或指定字元\n",
    "    #    new_names.append(name.rstrip('\\n'))\n",
    "    names = [name.rstrip('\\n') for name in names]#list comprehensions\n",
    "names\n",
    "#file.close()#另一種關閉檔案的方式"
   ]
  },
  {
   "cell_type": "code",
   "execution_count": null,
   "id": "455ee2c4",
   "metadata": {},
   "outputs": [],
   "source": []
  },
  {
   "cell_type": "markdown",
   "id": "046f0a6e",
   "metadata": {},
   "source": [
    "#如何"
   ]
  },
  {
   "cell_type": "code",
   "execution_count": 36,
   "id": "20db4118",
   "metadata": {},
   "outputs": [
    {
     "data": {
      "text/plain": [
       "50"
      ]
     },
     "execution_count": 36,
     "metadata": {},
     "output_type": "execute_result"
    }
   ],
   "source": [
    "import random\n",
    "students_names = random.sample(names, k=50)\n",
    "len(students_names)"
   ]
  }
 ],
 "metadata": {
  "kernelspec": {
   "display_name": "base",
   "language": "python",
   "name": "python3"
  },
  "language_info": {
   "codemirror_mode": {
    "name": "ipython",
    "version": 3
   },
   "file_extension": ".py",
   "mimetype": "text/x-python",
   "name": "python",
   "nbconvert_exporter": "python",
   "pygments_lexer": "ipython3",
   "version": "3.12.7"
  }
 },
 "nbformat": 4,
 "nbformat_minor": 5
}
