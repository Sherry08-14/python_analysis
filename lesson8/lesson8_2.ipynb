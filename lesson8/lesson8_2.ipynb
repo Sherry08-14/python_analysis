{
 "cells": [
  {
   "cell_type": "markdown",
   "id": "94f57115",
   "metadata": {},
   "source": [
    "### python的資料結構"
   ]
  },
  {
   "cell_type": "code",
   "execution_count": 1,
   "id": "c6a37a64",
   "metadata": {},
   "outputs": [],
   "source": [
    "name:str = '徐國堂'\n",
    "chinese:int = 96\n",
    "english:int = 85\n",
    "math:int = 95"
   ]
  },
  {
   "cell_type": "markdown",
   "id": "165e39d1",
   "metadata": {},
   "source": [
    "### 一組有關係的資料(dictionary)"
   ]
  },
  {
   "cell_type": "code",
   "execution_count": 5,
   "id": "de6326f0",
   "metadata": {},
   "outputs": [
    {
     "data": {
      "text/plain": [
       "{'name': '徐國堂', 'chinese': 96, 'english': 85, 'math': 95}"
      ]
     },
     "execution_count": 5,
     "metadata": {},
     "output_type": "execute_result"
    }
   ],
   "source": [
    "student:dict = {'name':\"徐國堂\", 'chinese':96, 'english': 85, 'math': 95}\n",
    "student\n",
    "#type(student)"
   ]
  },
  {
   "cell_type": "code",
   "execution_count": 7,
   "id": "6bf5fdc6",
   "metadata": {},
   "outputs": [
    {
     "data": {
      "text/plain": [
       "{'name': '徐國堂', 'chinese': 96, 'english': 85, 'math': 95}"
      ]
     },
     "execution_count": 7,
     "metadata": {},
     "output_type": "execute_result"
    }
   ],
   "source": [
    "student:dict = {'name':\"徐國堂\", \n",
    "                'chinese':96, \n",
    "                'english': 85, \n",
    "                'math': 95} ##只要student要對齊最左邊\n",
    "student"
   ]
  },
  {
   "cell_type": "code",
   "execution_count": null,
   "id": "0417607e",
   "metadata": {},
   "outputs": [
    {
     "data": {
      "text/plain": [
       "96"
      ]
     },
     "execution_count": 9,
     "metadata": {},
     "output_type": "execute_result"
    }
   ],
   "source": [
    "#取出值\n",
    "student['name']\n",
    "student['chinese']"
   ]
  },
  {
   "cell_type": "code",
   "execution_count": 10,
   "id": "faee5b13",
   "metadata": {},
   "outputs": [
    {
     "data": {
      "text/plain": [
       "90"
      ]
     },
     "execution_count": 10,
     "metadata": {},
     "output_type": "execute_result"
    }
   ],
   "source": [
    "#改變值\n",
    "student['name']\n",
    "student['chinese']=90\n",
    "student['chinese']"
   ]
  },
  {
   "cell_type": "code",
   "execution_count": 12,
   "id": "0a0f66f5",
   "metadata": {},
   "outputs": [
    {
     "data": {
      "text/plain": [
       "{'name': '徐國堂', 'chinese': 90, 'english': 85, 'math': 95, 'history': 84}"
      ]
     },
     "execution_count": 12,
     "metadata": {},
     "output_type": "execute_result"
    }
   ],
   "source": [
    "#新增key\n",
    "student['history']=84\n",
    "student"
   ]
  }
 ],
 "metadata": {
  "kernelspec": {
   "display_name": "base",
   "language": "python",
   "name": "python3"
  },
  "language_info": {
   "codemirror_mode": {
    "name": "ipython",
    "version": 3
   },
   "file_extension": ".py",
   "mimetype": "text/x-python",
   "name": "python",
   "nbconvert_exporter": "python",
   "pygments_lexer": "ipython3",
   "version": "3.12.7"
  }
 },
 "nbformat": 4,
 "nbformat_minor": 5
}
