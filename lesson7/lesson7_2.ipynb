{
 "cells": [
  {
   "cell_type": "code",
   "execution_count": null,
   "id": "78840c8f",
   "metadata": {},
   "outputs": [],
   "source": [
    "import random\n",
    "\n",
    "def play_game():\n",
    "    min = 1\n",
    "    max = 99\n",
    "    count = 0\n",
    "    target = random.randint(min, max)\n",
    "    print(\"=========猜數字遊戲============\\n\\n\")\n",
    "    print(target)\n",
    "    while(True):\n",
    "        keyin = int(input(f'猜數字範圍{min}~{max}:'))\n",
    "        count += 1\n",
    "        if(keyin >= min and keyin <= max):\n",
    "            if(keyin == target):\n",
    "                print(f\"賓果!猜對了, 答案是:{target}\")\n",
    "                print(f\"您共猜了{count}次\")\n",
    "                break\n",
    "            elif keyin < target:\n",
    "                print(\"再大一點\")\n",
    "                min = keyin + 1\n",
    "            elif keyin > target:\n",
    "                print(\"再小一點\")\n",
    "                max = keyin - 1\n",
    "            print(f\"您已經猜了:{count}次\")\n",
    "        else:\n",
    "            print(\"請輸入提示範圍內的數字\")\n",
    "\n",
    "while(True):    \n",
    "    play_game()\n",
    "    play_again:str = input(\"您還要繼續嗎(y,n)?\")\n",
    "    if play_again == \"n\":\n",
    "        break\n",
    "    \n",
    "    \n",
    "\n",
    "print(\"猜數字遊戲結束\")"
   ]
  },
  {
   "cell_type": "code",
   "execution_count": null,
   "id": "00119b45",
   "metadata": {},
   "outputs": [],
   "source": []
  }
 ],
 "metadata": {
  "language_info": {
   "name": "python"
  }
 },
 "nbformat": 4,
 "nbformat_minor": 5
}
