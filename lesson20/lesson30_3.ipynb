{
 "cells": [
  {
   "cell_type": "markdown",
   "id": "1c86549d",
   "metadata": {},
   "source": []
  },
  {
   "cell_type": "code",
   "execution_count": 8,
   "id": "1fccb5aa",
   "metadata": {},
   "outputs": [
    {
     "name": "stdout",
     "output_type": "stream",
     "text": [
      "沒有發生問題\n"
     ]
    }
   ],
   "source": [
    "import requests\n",
    "from requests import ConnectionError,HTTPError,Timeout\n",
    "import numpy as np\n",
    "import pandas as pd\n",
    "\n",
    "url = 'https://data.ntpc.gov.tw/api/datasets/010e5b15-3823-4b20-b401-b1cf000550c5/json?page=0&size=1000'\n",
    "try:\n",
    "    response = requests.get(url)    \n",
    "    response.raise_for_status()    \n",
    "except ConnectionError:\n",
    "    print('找不到伺服器')\n",
    "except HTTPError:\n",
    "    print('網頁找不到')\n",
    "except Timeout:\n",
    "    print('超過時間沒有回應')\n",
    "else:\n",
    "    print('沒有發生問題')\n",
    "\n",
    "records = response.json()\n",
    "#records\n",
    "allRecords = pd.DataFrame(records,columns=['sna','tot','mday','sbi','sarea','ar','bemp'])\n",
    "allRecords1 = allRecords.rename(columns= {'sna':'站名', 'sarea':'區域', 'ar':'地址', 'tot':'數量','sbi':'可借', 'bemp':'可還','mday':'時間'})\n",
    "#allRecords1"
   ]
  },
  {
   "cell_type": "code",
   "execution_count": 9,
   "id": "4adc317f",
   "metadata": {},
   "outputs": [
    {
     "data": {
      "text/plain": [
       "0             下庄市場\n",
       "1           八里行政中心\n",
       "2       八里中庄市場綜合大樓\n",
       "3             大崁國小\n",
       "4            龍形停車場\n",
       "          ...     \n",
       "995          深坑松柏街\n",
       "996    深坑區公所(深坑老街)\n",
       "997         東南科技大學\n",
       "998          深坑雲鄉路\n",
       "999        埔新街61巷口\n",
       "Name: 站名, Length: 1000, dtype: object"
      ]
     },
     "execution_count": 9,
     "metadata": {},
     "output_type": "execute_result"
    }
   ],
   "source": [
    "allRecords1['站名'].apply(lambda name:name[11:])"
   ]
  },
  {
   "cell_type": "code",
   "execution_count": 10,
   "id": "9d1ff078",
   "metadata": {},
   "outputs": [
    {
     "name": "stdout",
     "output_type": "stream",
     "text": [
      "<class 'pandas.core.frame.DataFrame'>\n",
      "RangeIndex: 1000 entries, 0 to 999\n",
      "Data columns (total 7 columns):\n",
      " #   Column  Non-Null Count  Dtype \n",
      "---  ------  --------------  ----- \n",
      " 0   站名      1000 non-null   object\n",
      " 1   數量      1000 non-null   object\n",
      " 2   時間      1000 non-null   object\n",
      " 3   可借      1000 non-null   object\n",
      " 4   區域      1000 non-null   object\n",
      " 5   地址      1000 non-null   object\n",
      " 6   可還      1000 non-null   object\n",
      "dtypes: object(7)\n",
      "memory usage: 54.8+ KB\n"
     ]
    }
   ],
   "source": [
    "allRecords1.info()"
   ]
  },
  {
   "cell_type": "code",
   "execution_count": 12,
   "id": "bc2393cb",
   "metadata": {},
   "outputs": [],
   "source": [
    "allRecords1['時間'] = pd.to_datetime(allRecords1['時間'])"
   ]
  },
  {
   "cell_type": "code",
   "execution_count": 16,
   "id": "c5059146",
   "metadata": {},
   "outputs": [],
   "source": [
    "allRecords1[['數量','可借','可還']] = allRecords1[['數量','可借','可還']].astype(int)"
   ]
  },
  {
   "cell_type": "code",
   "execution_count": 17,
   "id": "b70a6a34",
   "metadata": {},
   "outputs": [
    {
     "name": "stdout",
     "output_type": "stream",
     "text": [
      "<class 'pandas.core.frame.DataFrame'>\n",
      "RangeIndex: 1000 entries, 0 to 999\n",
      "Data columns (total 7 columns):\n",
      " #   Column  Non-Null Count  Dtype         \n",
      "---  ------  --------------  -----         \n",
      " 0   站名      1000 non-null   object        \n",
      " 1   數量      1000 non-null   int64         \n",
      " 2   時間      1000 non-null   datetime64[ns]\n",
      " 3   可借      1000 non-null   int64         \n",
      " 4   區域      1000 non-null   object        \n",
      " 5   地址      1000 non-null   object        \n",
      " 6   可還      1000 non-null   int64         \n",
      "dtypes: datetime64[ns](1), int64(3), object(3)\n",
      "memory usage: 54.8+ KB\n"
     ]
    }
   ],
   "source": [
    "allRecords1.info()"
   ]
  }
 ],
 "metadata": {
  "kernelspec": {
   "display_name": "myenv",
   "language": "python",
   "name": "python3"
  },
  "language_info": {
   "codemirror_mode": {
    "name": "ipython",
    "version": 3
   },
   "file_extension": ".py",
   "mimetype": "text/x-python",
   "name": "python",
   "nbconvert_exporter": "python",
   "pygments_lexer": "ipython3",
   "version": "3.10.16"
  }
 },
 "nbformat": 4,
 "nbformat_minor": 5
}
