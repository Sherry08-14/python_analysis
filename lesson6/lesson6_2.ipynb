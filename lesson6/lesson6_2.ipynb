{
 "cells": [
  {
   "cell_type": "markdown",
   "id": "84eb6c33",
   "metadata": {},
   "source": [
    "不知道執行次數的迴圈while\n",
    "Step1:建立變數\n",
    "Step2:比較變數\n",
    "Step3:改變變數值"
   ]
  },
  {
   "cell_type": "code",
   "execution_count": 5,
   "id": "d590919f",
   "metadata": {},
   "outputs": [
    {
     "name": "stdout",
     "output_type": "stream",
     "text": [
      "恭喜!已經存夠了,存了5月,共存了34000元\n"
     ]
    }
   ],
   "source": [
    "#小明想要\n",
    "deposit =0\n",
    "month = 0\n",
    "while(deposit <30000):\n",
    "    month += 1\n",
    "    input_money = int(input(\"請輸入第{month}月份的存款:\"))\n",
    "    deposit += input_money\n",
    "\n",
    "print(f\"恭喜!已經存夠了,存了{month}月,共存了{deposit}元\")"
   ]
  },
  {
   "cell_type": "code",
   "execution_count": 6,
   "id": "f9e41719",
   "metadata": {},
   "outputs": [
    {
     "name": "stdout",
     "output_type": "stream",
     "text": [
      "恭喜!已經存夠了,存了4月,共存了30000元\n"
     ]
    }
   ],
   "source": [
    "#小明想要\n",
    "deposit =0\n",
    "month = 0\n",
    "while(True):\n",
    "    month += 1\n",
    "    input_money = int(input(\"請輸入第{month}月份的存款:\"))\n",
    "    deposit += input_money\n",
    "    if(deposit>=30000):\n",
    "        break\n",
    "\n",
    "print(f\"恭喜!已經存夠了,存了{month}月,共存了{deposit}元\")"
   ]
  },
  {
   "cell_type": "code",
   "execution_count": null,
   "id": "f01713fd",
   "metadata": {},
   "outputs": [],
   "source": [
    "奇數輸出平方\n",
    "偶數不做任何動作\n",
    "'q'要離開"
   ]
  },
  {
   "cell_type": "code",
   "execution_count": 10,
   "id": "d9243040",
   "metadata": {},
   "outputs": [
    {
     "name": "stdout",
     "output_type": "stream",
     "text": [
      "11的平方是121\n",
      "5的平方是25\n",
      "應用程式結束\n"
     ]
    }
   ],
   "source": [
    "while(True):\n",
    "    value = input('請輸入整數,輸入[q]離開:')\n",
    "    if value == 'q':\n",
    "        break\n",
    "    \n",
    "    try:\n",
    "        value = int(value)\n",
    "    except:\n",
    "        print(\"輸入錯誤,請重新輸入\")\n",
    "        continue\n",
    "    \n",
    "    if (value % 2 == 1):\n",
    "        print(f\"{value}的平方是{value**2}\")\n",
    "    #else:\n",
    "        #continue\n",
    "\n",
    "print(\"應用程式結束\")"
   ]
  },
  {
   "cell_type": "markdown",
   "id": "c741a7af",
   "metadata": {},
   "source": [
    "###建立亂數\n",
    "最好用random.randint(a, b) >=a & <=b"
   ]
  },
  {
   "cell_type": "code",
   "execution_count": 47,
   "id": "3d7edce8",
   "metadata": {},
   "outputs": [
    {
     "data": {
      "text/plain": [
       "69"
      ]
     },
     "execution_count": 47,
     "metadata": {},
     "output_type": "execute_result"
    }
   ],
   "source": [
    "import random\n",
    "rand_num = random.randint(1, 100)\n",
    "rand_num"
   ]
  }
 ],
 "metadata": {
  "kernelspec": {
   "display_name": "base",
   "language": "python",
   "name": "python3"
  },
  "language_info": {
   "codemirror_mode": {
    "name": "ipython",
    "version": 3
   },
   "file_extension": ".py",
   "mimetype": "text/x-python",
   "name": "python",
   "nbconvert_exporter": "python",
   "pygments_lexer": "ipython3",
   "version": "3.12.7"
  }
 },
 "nbformat": 4,
 "nbformat_minor": 5
}
