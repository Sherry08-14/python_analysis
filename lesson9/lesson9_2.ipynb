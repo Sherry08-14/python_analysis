{
 "cells": [
  {
   "cell_type": "code",
   "execution_count": null,
   "id": "710b1acb",
   "metadata": {},
   "outputs": [],
   "source": [
    "from dataclasses import dataclass#這是個裝飾器要先run\n",
    "\n",
    "@dataclass\n",
    "class Student:\n",
    "    pass"
   ]
  },
  {
   "cell_type": "code",
   "execution_count": null,
   "id": "1e280921",
   "metadata": {},
   "outputs": [],
   "source": [
    "from dataclasses import dataclass#這是個裝飾器要先run\n",
    "\n",
    "@dataclass\n",
    "class Student:\n",
    "    name:str\n",
    "    chinese:int\n",
    "    math:int\n",
    "    english:int\n",
    "\n",
    "    @property#修飾運算值\n",
    "    def sum(self): #參數前一定要放self\n",
    "        return self.chinese + self.english + self.math\n",
    "    \n",
    "    def average(self):#實體方法\n",
    "        return round(self.sum/3.0,ndigits=2)"
   ]
  },
  {
   "cell_type": "code",
   "execution_count": 44,
   "id": "c60551f6",
   "metadata": {},
   "outputs": [
    {
     "data": {
      "text/plain": [
       "__main__.Student"
      ]
     },
     "execution_count": 44,
     "metadata": {},
     "output_type": "execute_result"
    }
   ],
   "source": [
    "stu1:Student = Student(name=\"robert\", \n",
    "                       chinese=98, \n",
    "                       math=69, \n",
    "                       english=75)#這個也要先run才能run後面\n",
    "stu2:Student = Student(name=\"jenny\", \n",
    "                       chinese=87, \n",
    "                       math=75, \n",
    "                       english=92)\n",
    "type(stu1)\n"
   ]
  },
  {
   "cell_type": "code",
   "execution_count": null,
   "id": "e63117a3",
   "metadata": {},
   "outputs": [
    {
     "name": "stdout",
     "output_type": "stream",
     "text": [
      "('robert', 100, 75, 69)\n",
      "244\n",
      "81.33\n"
     ]
    }
   ],
   "source": [
    "(stu1.name, stu1.chinese, stu1.english, stu1.math) #tuple可以省小括號\n",
    "stu1.chinese = 100\n",
    "#stu1.sum = 300 一般的property只可以讀, 不可以寫入\n",
    "print((stu1.name, stu1.chinese, stu1.english, stu1.math))\n",
    "print(stu1.sum)#呼叫property\n",
    "print(stu1.average())#呼叫實體方法\n"
   ]
  },
  {
   "cell_type": "code",
   "execution_count": 47,
   "id": "e0b143a5",
   "metadata": {},
   "outputs": [
    {
     "name": "stdout",
     "output_type": "stream",
     "text": [
      "('jenny', 87, 92, 75)\n",
      "254\n",
      "84.67\n"
     ]
    }
   ],
   "source": [
    "print((stu2.name, stu2.chinese, stu2.english, stu2.math))\n",
    "print(stu2.sum)\n",
    "print(stu2.average())"
   ]
  }
 ],
 "metadata": {
  "kernelspec": {
   "display_name": "base",
   "language": "python",
   "name": "python3"
  },
  "language_info": {
   "codemirror_mode": {
    "name": "ipython",
    "version": 3
   },
   "file_extension": ".py",
   "mimetype": "text/x-python",
   "name": "python",
   "nbconvert_exporter": "python",
   "pygments_lexer": "ipython3",
   "version": "3.12.7"
  }
 },
 "nbformat": 4,
 "nbformat_minor": 5
}
