{
 "cells": [
  {
   "cell_type": "markdown",
   "id": "b5d09dae",
   "metadata": {},
   "source": [
    "https://www.perplexity.ai/search/83b26786-5e8e-4cbe-ac68-acf4626be7c8"
   ]
  },
  {
   "cell_type": "code",
   "execution_count": 10,
   "id": "7b3660e2",
   "metadata": {},
   "outputs": [
    {
     "name": "stdout",
     "output_type": "stream",
     "text": [
      "c:\\Users\\sherr\\OneDrive\\文档\\Github\\python_analysis\\lesson18\\每日各站進出站人數\\每日各站進出站人數20190423-20191231.csv\n",
      "c:\\Users\\sherr\\OneDrive\\文档\\Github\\python_analysis\\lesson18\\每日各站進出站人數\\每日各站進出站人數2020.csv\n",
      "c:\\Users\\sherr\\OneDrive\\文档\\Github\\python_analysis\\lesson18\\每日各站進出站人數\\每日各站進出站人數2021.csv\n",
      "c:\\Users\\sherr\\OneDrive\\文档\\Github\\python_analysis\\lesson18\\每日各站進出站人數\\每日各站進出站人數2022.csv\n",
      "c:\\Users\\sherr\\OneDrive\\文档\\Github\\python_analysis\\lesson18\\每日各站進出站人數\\每日各站進出站人數2023.csv\n"
     ]
    }
   ],
   "source": [
    "import os\n",
    "folder_name = '每日各站進出站人數'\n",
    "folder_abspath = os.path.abspath(folder_name)#檔案最好抓絶對位置\n",
    "allitems:list[str] = os.listdir(folder_abspath)\n",
    "\n",
    "# for file_name in allitems: #Ctrl+/全部註解\n",
    "#     if len(file_name) > 12:\n",
    "#         print(file_name)\n",
    "\n",
    "#綜合串列運算語法(comprehension)\n",
    "\n",
    "filenames = [file_name for file_name in allitems if len(file_name)>12]\n",
    "for file_name in filenames:\n",
    "    filename_absPath = os.path.join(folder_abspath, file_name)\n",
    "    print(filename_absPath)\n",
    "#filenames"
   ]
  }
 ],
 "metadata": {
  "kernelspec": {
   "display_name": "myenv",
   "language": "python",
   "name": "python3"
  },
  "language_info": {
   "codemirror_mode": {
    "name": "ipython",
    "version": 3
   },
   "file_extension": ".py",
   "mimetype": "text/x-python",
   "name": "python",
   "nbconvert_exporter": "python",
   "pygments_lexer": "ipython3",
   "version": "3.10.16"
  }
 },
 "nbformat": 4,
 "nbformat_minor": 5
}
