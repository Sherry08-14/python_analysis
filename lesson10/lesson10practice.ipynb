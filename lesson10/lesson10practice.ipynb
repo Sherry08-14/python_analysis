{
 "cells": [
  {
   "cell_type": "code",
   "execution_count": null,
   "id": "b59d39ec",
   "metadata": {},
   "outputs": [
    {
     "name": "stdout",
     "output_type": "stream",
     "text": [
      "/workspaces/python_analysis/lesson10/aqx_p_488.txt\n"
     ]
    }
   ],
   "source": [
    "import os\n",
    "file_name:str = 'aqx_p_488.txt'\n",
    "file_path:str = os.path.abspath(file_name)\n",
    "#print(file_path)\n",
    "pm2.5_data = pd.read_csv(file_path)"
   ]
  }
 ],
 "metadata": {
  "kernelspec": {
   "display_name": "base",
   "language": "python",
   "name": "python3"
  },
  "language_info": {
   "codemirror_mode": {
    "name": "ipython",
    "version": 3
   },
   "file_extension": ".py",
   "mimetype": "text/x-python",
   "name": "python",
   "nbconvert_exporter": "python",
   "pygments_lexer": "ipython3",
   "version": "3.12.7"
  }
 },
 "nbformat": 4,
 "nbformat_minor": 5
}
