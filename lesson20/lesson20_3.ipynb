{
 "cells": [
  {
   "cell_type": "markdown",
   "id": "1c86549d",
   "metadata": {},
   "source": []
  },
  {
   "cell_type": "code",
   "execution_count": 15,
   "id": "1fccb5aa",
   "metadata": {},
   "outputs": [
    {
     "name": "stdout",
     "output_type": "stream",
     "text": [
      "沒有發生問題\n"
     ]
    }
   ],
   "source": [
    "import requests\n",
    "from requests import ConnectionError,HTTPError,Timeout\n",
    "import numpy as np\n",
    "import pandas as pd\n",
    "\n",
    "url = 'https://data.ntpc.gov.tw/api/datasets/010e5b15-3823-4b20-b401-b1cf000550c5/json?page=0&size=1000'\n",
    "try:\n",
    "    response = requests.get(url)    \n",
    "    response.raise_for_status()    \n",
    "except ConnectionError:\n",
    "    print('找不到伺服器')\n",
    "except HTTPError:\n",
    "    print('網頁找不到')\n",
    "except Timeout:\n",
    "    print('超過時間沒有回應')\n",
    "else:\n",
    "    print('沒有發生問題')\n",
    "\n",
    "records = response.json()\n",
    "#records\n",
    "allRecords = pd.DataFrame(records,columns=['sna','tot','mday','sbi','sarea','ar','bemp'])\n",
    "allRecords1 = allRecords.rename(columns= {'sna':'站名', 'sarea':'區域', 'ar':'地址', 'tot':'數量','sbi':'可借', 'bemp':'可還','mday':'時間'})\n",
    "#allRecords1"
   ]
  },
  {
   "cell_type": "code",
   "execution_count": 16,
   "id": "4adc317f",
   "metadata": {},
   "outputs": [
    {
     "data": {
      "text/plain": [
       "0             下庄市場\n",
       "1           八里行政中心\n",
       "2       八里中庄市場綜合大樓\n",
       "3             大崁國小\n",
       "4            龍形停車場\n",
       "          ...     \n",
       "995          深坑松柏街\n",
       "996    深坑區公所(深坑老街)\n",
       "997         東南科技大學\n",
       "998          深坑雲鄉路\n",
       "999        埔新街61巷口\n",
       "Name: 站名, Length: 1000, dtype: object"
      ]
     },
     "execution_count": 16,
     "metadata": {},
     "output_type": "execute_result"
    }
   ],
   "source": [
    "allRecords1['站名'].apply(lambda name:name[11:])"
   ]
  },
  {
   "cell_type": "code",
   "execution_count": 17,
   "id": "9d1ff078",
   "metadata": {},
   "outputs": [
    {
     "name": "stdout",
     "output_type": "stream",
     "text": [
      "<class 'pandas.core.frame.DataFrame'>\n",
      "RangeIndex: 1000 entries, 0 to 999\n",
      "Data columns (total 7 columns):\n",
      " #   Column  Non-Null Count  Dtype \n",
      "---  ------  --------------  ----- \n",
      " 0   站名      1000 non-null   object\n",
      " 1   數量      1000 non-null   object\n",
      " 2   時間      1000 non-null   object\n",
      " 3   可借      1000 non-null   object\n",
      " 4   區域      1000 non-null   object\n",
      " 5   地址      1000 non-null   object\n",
      " 6   可還      1000 non-null   object\n",
      "dtypes: object(7)\n",
      "memory usage: 54.8+ KB\n"
     ]
    }
   ],
   "source": [
    "allRecords1.info()"
   ]
  },
  {
   "cell_type": "code",
   "execution_count": 18,
   "id": "bc2393cb",
   "metadata": {},
   "outputs": [],
   "source": [
    "allRecords1['時間'] = pd.to_datetime(allRecords1['時間'])"
   ]
  },
  {
   "cell_type": "code",
   "execution_count": 19,
   "id": "c5059146",
   "metadata": {},
   "outputs": [],
   "source": [
    "allRecords1[['數量','可借','可還']] = allRecords1[['數量','可借','可還']].astype(int)"
   ]
  },
  {
   "cell_type": "code",
   "execution_count": 20,
   "id": "b70a6a34",
   "metadata": {},
   "outputs": [
    {
     "name": "stdout",
     "output_type": "stream",
     "text": [
      "<class 'pandas.core.frame.DataFrame'>\n",
      "RangeIndex: 1000 entries, 0 to 999\n",
      "Data columns (total 7 columns):\n",
      " #   Column  Non-Null Count  Dtype         \n",
      "---  ------  --------------  -----         \n",
      " 0   站名      1000 non-null   object        \n",
      " 1   數量      1000 non-null   int64         \n",
      " 2   時間      1000 non-null   datetime64[ns]\n",
      " 3   可借      1000 non-null   int64         \n",
      " 4   區域      1000 non-null   object        \n",
      " 5   地址      1000 non-null   object        \n",
      " 6   可還      1000 non-null   int64         \n",
      "dtypes: datetime64[ns](1), int64(3), object(3)\n",
      "memory usage: 54.8+ KB\n"
     ]
    }
   ],
   "source": [
    "allRecords1.info()"
   ]
  },
  {
   "cell_type": "code",
   "execution_count": 29,
   "id": "1022bd5d",
   "metadata": {},
   "outputs": [],
   "source": [
    "import numpy as np\n",
    "grouped = allRecords1.groupby('區域')\n",
    "#grouped[['數量','可借','可還']].sum()\n",
    "agg_df = grouped[['數量','可借','可還']].agg([(\"加總\",\"sum\"),(\"平均\",\"mean\"),(\"中間數\",\"median\"),(\"最多\",\"max\"),(\"最少\",\"min\")])"
   ]
  },
  {
   "cell_type": "code",
   "execution_count": 35,
   "id": "2661a0eb",
   "metadata": {},
   "outputs": [
    {
     "data": {
      "text/plain": [
       "區域   租借  統計 \n",
       "三峽區  數量  加總     1540.000000\n",
       "         平均       22.318841\n",
       "         中間數      20.000000\n",
       "         最多       63.000000\n",
       "         最少       10.000000\n",
       "                   ...     \n",
       "金山區  可還  加總      125.000000\n",
       "         平均       17.857143\n",
       "         中間數      15.000000\n",
       "         最多       28.000000\n",
       "         最少        9.000000\n",
       "Length: 315, dtype: float64"
      ]
     },
     "execution_count": 35,
     "metadata": {},
     "output_type": "execute_result"
    }
   ],
   "source": [
    "agg_df.columns.names = [\"租借\",\"統計\"]#讓數量及加總前有名稱\n",
    "s1 = agg_df.stack(level=['租借','統計'],future_stack=True)\n",
    "s1"
   ]
  },
  {
   "cell_type": "code",
   "execution_count": 37,
   "id": "899616c5",
   "metadata": {},
   "outputs": [
    {
     "data": {
      "text/html": [
       "<div>\n",
       "<style scoped>\n",
       "    .dataframe tbody tr th:only-of-type {\n",
       "        vertical-align: middle;\n",
       "    }\n",
       "\n",
       "    .dataframe tbody tr th {\n",
       "        vertical-align: top;\n",
       "    }\n",
       "\n",
       "    .dataframe thead th {\n",
       "        text-align: right;\n",
       "    }\n",
       "</style>\n",
       "<table border=\"1\" class=\"dataframe\">\n",
       "  <thead>\n",
       "    <tr style=\"text-align: right;\">\n",
       "      <th></th>\n",
       "      <th>統計</th>\n",
       "      <th>加總</th>\n",
       "      <th>平均</th>\n",
       "      <th>中間數</th>\n",
       "      <th>最多</th>\n",
       "      <th>最少</th>\n",
       "    </tr>\n",
       "    <tr>\n",
       "      <th>區域</th>\n",
       "      <th>租借</th>\n",
       "      <th></th>\n",
       "      <th></th>\n",
       "      <th></th>\n",
       "      <th></th>\n",
       "      <th></th>\n",
       "    </tr>\n",
       "  </thead>\n",
       "  <tbody>\n",
       "    <tr>\n",
       "      <th rowspan=\"3\" valign=\"top\">三峽區</th>\n",
       "      <th>數量</th>\n",
       "      <td>1540.0</td>\n",
       "      <td>22.318841</td>\n",
       "      <td>20.0</td>\n",
       "      <td>63.0</td>\n",
       "      <td>10.0</td>\n",
       "    </tr>\n",
       "    <tr>\n",
       "      <th>可借</th>\n",
       "      <td>675.0</td>\n",
       "      <td>9.782609</td>\n",
       "      <td>8.0</td>\n",
       "      <td>30.0</td>\n",
       "      <td>0.0</td>\n",
       "    </tr>\n",
       "    <tr>\n",
       "      <th>可還</th>\n",
       "      <td>865.0</td>\n",
       "      <td>12.536232</td>\n",
       "      <td>10.0</td>\n",
       "      <td>42.0</td>\n",
       "      <td>0.0</td>\n",
       "    </tr>\n",
       "    <tr>\n",
       "      <th rowspan=\"2\" valign=\"top\">三芝區</th>\n",
       "      <th>數量</th>\n",
       "      <td>170.0</td>\n",
       "      <td>21.250000</td>\n",
       "      <td>16.0</td>\n",
       "      <td>48.0</td>\n",
       "      <td>14.0</td>\n",
       "    </tr>\n",
       "    <tr>\n",
       "      <th>可借</th>\n",
       "      <td>44.0</td>\n",
       "      <td>5.500000</td>\n",
       "      <td>5.5</td>\n",
       "      <td>11.0</td>\n",
       "      <td>2.0</td>\n",
       "    </tr>\n",
       "    <tr>\n",
       "      <th>...</th>\n",
       "      <th>...</th>\n",
       "      <td>...</td>\n",
       "      <td>...</td>\n",
       "      <td>...</td>\n",
       "      <td>...</td>\n",
       "      <td>...</td>\n",
       "    </tr>\n",
       "    <tr>\n",
       "      <th rowspan=\"2\" valign=\"top\">貢寮區</th>\n",
       "      <th>可借</th>\n",
       "      <td>20.0</td>\n",
       "      <td>6.666667</td>\n",
       "      <td>3.0</td>\n",
       "      <td>16.0</td>\n",
       "      <td>1.0</td>\n",
       "    </tr>\n",
       "    <tr>\n",
       "      <th>可還</th>\n",
       "      <td>40.0</td>\n",
       "      <td>13.333333</td>\n",
       "      <td>17.0</td>\n",
       "      <td>19.0</td>\n",
       "      <td>4.0</td>\n",
       "    </tr>\n",
       "    <tr>\n",
       "      <th rowspan=\"3\" valign=\"top\">金山區</th>\n",
       "      <th>數量</th>\n",
       "      <td>163.0</td>\n",
       "      <td>23.285714</td>\n",
       "      <td>24.0</td>\n",
       "      <td>30.0</td>\n",
       "      <td>15.0</td>\n",
       "    </tr>\n",
       "    <tr>\n",
       "      <th>可借</th>\n",
       "      <td>38.0</td>\n",
       "      <td>5.428571</td>\n",
       "      <td>6.0</td>\n",
       "      <td>9.0</td>\n",
       "      <td>2.0</td>\n",
       "    </tr>\n",
       "    <tr>\n",
       "      <th>可還</th>\n",
       "      <td>125.0</td>\n",
       "      <td>17.857143</td>\n",
       "      <td>15.0</td>\n",
       "      <td>28.0</td>\n",
       "      <td>9.0</td>\n",
       "    </tr>\n",
       "  </tbody>\n",
       "</table>\n",
       "<p>63 rows × 5 columns</p>\n",
       "</div>"
      ],
      "text/plain": [
       "統計          加總         平均   中間數    最多    最少\n",
       "區域  租借                                     \n",
       "三峽區 數量  1540.0  22.318841  20.0  63.0  10.0\n",
       "    可借   675.0   9.782609   8.0  30.0   0.0\n",
       "    可還   865.0  12.536232  10.0  42.0   0.0\n",
       "三芝區 數量   170.0  21.250000  16.0  48.0  14.0\n",
       "    可借    44.0   5.500000   5.5  11.0   2.0\n",
       "...        ...        ...   ...   ...   ...\n",
       "貢寮區 可借    20.0   6.666667   3.0  16.0   1.0\n",
       "    可還    40.0  13.333333  17.0  19.0   4.0\n",
       "金山區 數量   163.0  23.285714  24.0  30.0  15.0\n",
       "    可借    38.0   5.428571   6.0   9.0   2.0\n",
       "    可還   125.0  17.857143  15.0  28.0   9.0\n",
       "\n",
       "[63 rows x 5 columns]"
      ]
     },
     "execution_count": 37,
     "metadata": {},
     "output_type": "execute_result"
    }
   ],
   "source": [
    "s1.unstack(level='統計')"
   ]
  }
 ],
 "metadata": {
  "kernelspec": {
   "display_name": "myenv",
   "language": "python",
   "name": "python3"
  },
  "language_info": {
   "codemirror_mode": {
    "name": "ipython",
    "version": 3
   },
   "file_extension": ".py",
   "mimetype": "text/x-python",
   "name": "python",
   "nbconvert_exporter": "python",
   "pygments_lexer": "ipython3",
   "version": "3.10.16"
  }
 },
 "nbformat": 4,
 "nbformat_minor": 5
}
