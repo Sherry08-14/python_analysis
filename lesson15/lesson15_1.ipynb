{
 "cells": [
  {
   "cell_type": "markdown",
   "id": "0c9b9e5f",
   "metadata": {},
   "source": [
    "https://www.perplexity.ai/search/0638400d-59de-4d83-8e38-0cb807daf590"
   ]
  },
  {
   "cell_type": "code",
   "execution_count": 4,
   "id": "68bb0faa",
   "metadata": {},
   "outputs": [],
   "source": [
    "import numpy as np\n",
    "from numpy import ndarray\n",
    "\n",
    "my_array:ndarray = np.arange(1000000)\n",
    "my_list = list(range(1000000))"
   ]
  },
  {
   "cell_type": "code",
   "execution_count": 5,
   "id": "513e37ea",
   "metadata": {},
   "outputs": [
    {
     "name": "stdout",
     "output_type": "stream",
     "text": [
      "CPU times: total: 0 ns\n",
      "Wall time: 0 ns\n"
     ]
    }
   ],
   "source": [
    "%time \n",
    "\n",
    "for _ in range(10):\n",
    "    #list的comprehension,list綜合表達式\n",
    "    my_lists = [x*2 for x in my_list]"
   ]
  },
  {
   "cell_type": "code",
   "execution_count": 6,
   "id": "ea80d1f7",
   "metadata": {},
   "outputs": [
    {
     "name": "stdout",
     "output_type": "stream",
     "text": [
      "CPU times: total: 46.9 ms\n",
      "Wall time: 65.6 ms\n"
     ]
    }
   ],
   "source": [
    "%time for _ in range(10): my_array2 = my_array * 2"
   ]
  },
  {
   "cell_type": "code",
   "execution_count": 7,
   "id": "6f722c3d",
   "metadata": {},
   "outputs": [
    {
     "data": {
      "text/plain": [
       "(4,)"
      ]
     },
     "execution_count": 7,
     "metadata": {},
     "output_type": "execute_result"
    }
   ],
   "source": [
    "np.array(range(4)).shape"
   ]
  },
  {
   "cell_type": "code",
   "execution_count": null,
   "id": "48a63ea2",
   "metadata": {},
   "outputs": [],
   "source": [
    "###50個學生, 每個學生有5個分數, 每個分數50~100\n"
   ]
  },
  {
   "cell_type": "code",
   "execution_count": null,
   "id": "a0e7ca24",
   "metadata": {},
   "outputs": [],
   "source": [
    "np.random.seed(42)#42 seed去產生亂數後就不會再動 python內建不能這做, 只有numpy才可以\n",
    "scores = np.random.randint(50,101,(50,5))\n",
    "scores"
   ]
  },
  {
   "cell_type": "markdown",
   "id": "160b5171",
   "metadata": {},
   "source": [
    "#ndarray常用的實體屬性\n",
    "#scores.ndim\n",
    "scores.shape\n",
    "scores.size\n",
    "scores.dtype"
   ]
  },
  {
   "cell_type": "markdown",
   "id": "354a5605",
   "metadata": {},
   "source": [
    "###基本索引和分割\n",
    "- ndarray[index]\n",
    "- ndayyay[start:end:step]"
   ]
  },
  {
   "cell_type": "code",
   "execution_count": 32,
   "id": "64c87a18",
   "metadata": {},
   "outputs": [
    {
     "data": {
      "text/plain": [
       "np.int32(57)"
      ]
     },
     "execution_count": 32,
     "metadata": {},
     "output_type": "execute_result"
    }
   ],
   "source": [
    "#2維\n",
    "scores[0][4]#類似list的操作\n",
    "scores[0, 4]#ndarrya的slice的操作法"
   ]
  },
  {
   "cell_type": "code",
   "execution_count": 33,
   "id": "ac1dcb23",
   "metadata": {},
   "outputs": [
    {
     "data": {
      "text/plain": [
       "array([[88, 78, 64, 92, 57]], dtype=int32)"
      ]
     },
     "execution_count": 33,
     "metadata": {},
     "output_type": "execute_result"
    }
   ],
   "source": [
    "##取得第1位學生的分數\n",
    "scores[0]#shape(5,)\n",
    "scores[0,:]#shape(5,0)\n",
    "scores[0:1,:]#shape(1,5)"
   ]
  },
  {
   "cell_type": "code",
   "execution_count": 39,
   "id": "f00fc26a",
   "metadata": {},
   "outputs": [
    {
     "data": {
      "text/plain": [
       "array([[88, 78, 64, 92, 57],\n",
       "       [70, 88, 68, 72, 60],\n",
       "       [79, 87, 51, 70, 82]], dtype=int32)"
      ]
     },
     "execution_count": 39,
     "metadata": {},
     "output_type": "execute_result"
    }
   ],
   "source": [
    "##取得第1,2位學生的分數\n",
    "scores[:2]\n",
    "scores[:2,:]#和第2列的意思相同\n",
    "scores[(0,1),:]#和第2列的意思相同\n",
    "scores[(0,1),:]#和第2列的意思相同\n",
    "##取得第1,2,5位學生的分數\n",
    "scores[(0,1,4),:]"
   ]
  },
  {
   "cell_type": "code",
   "execution_count": null,
   "id": "eac868b5",
   "metadata": {},
   "outputs": [],
   "source": [
    "##取得第1科的所有分數\n",
    "scores[:,0]#(50,)\n",
    "scores[:,0:1]#(1,50)"
   ]
  },
  {
   "cell_type": "code",
   "execution_count": null,
   "id": "f2a7418b",
   "metadata": {},
   "outputs": [],
   "source": [
    "##取得第1,2科的所有分數\n",
    "scores[:,:2]#(50,2)"
   ]
  },
  {
   "cell_type": "code",
   "execution_count": null,
   "id": "d9bd0a56",
   "metadata": {},
   "outputs": [],
   "source": [
    "##取得前30位學生的最後3科分數\n",
    "scores[:30,-3:]#(30,3)"
   ]
  },
  {
   "cell_type": "markdown",
   "id": "b11c2d64",
   "metadata": {},
   "source": [
    "###ndarray的統計的實體方法\n",
    "- sum()\n",
    "- min()\n",
    "- max()\n",
    "- mean()"
   ]
  },
  {
   "cell_type": "code",
   "execution_count": 46,
   "id": "e945c20e",
   "metadata": {},
   "outputs": [
    {
     "data": {
      "text/plain": [
       "array([379, 358, 380, 340, 369, 397, 373, 427, 372, 356, 330, 398, 397,\n",
       "       339, 366, 370, 353, 385, 412, 376, 311, 383, 373, 400, 315, 410,\n",
       "       413, 400, 294, 349, 392, 401, 419, 381, 385, 368, 411, 381, 330,\n",
       "       334, 452, 372, 435, 385, 343, 371, 368, 315, 352, 375])"
      ]
     },
     "execution_count": 46,
     "metadata": {},
     "output_type": "execute_result"
    }
   ],
   "source": [
    "#每個學生的總分和平均\n",
    "scores.sum(axis=1)\n"
   ]
  },
  {
   "cell_type": "code",
   "execution_count": 48,
   "id": "cfcfde41",
   "metadata": {},
   "outputs": [
    {
     "data": {
      "text/plain": [
       "array([75.8, 71.6, 76. , 68. , 73.8, 79.4, 74.6, 85.4, 74.4, 71.2, 66. ,\n",
       "       79.6, 79.4, 67.8, 73.2, 74. , 70.6, 77. , 82.4, 75.2, 62.2, 76.6,\n",
       "       74.6, 80. , 63. , 82. , 82.6, 80. , 58.8, 69.8])"
      ]
     },
     "execution_count": 48,
     "metadata": {},
     "output_type": "execute_result"
    }
   ],
   "source": [
    "#前30位學生的平均\n",
    "scores[:30].mean(axis=1)"
   ]
  },
  {
   "cell_type": "code",
   "execution_count": 50,
   "id": "09da1aad",
   "metadata": {},
   "outputs": [
    {
     "data": {
      "text/plain": [
       "np.int32(50)"
      ]
     },
     "execution_count": 50,
     "metadata": {},
     "output_type": "execute_result"
    }
   ],
   "source": [
    "#第1科最高的分數和最低分\n",
    "scores[:,0].max(axis=0)\n",
    "scores[:,0].min(axis=0)"
   ]
  }
 ],
 "metadata": {
  "kernelspec": {
   "display_name": "myenv",
   "language": "python",
   "name": "python3"
  },
  "language_info": {
   "codemirror_mode": {
    "name": "ipython",
    "version": 3
   },
   "file_extension": ".py",
   "mimetype": "text/x-python",
   "name": "python",
   "nbconvert_exporter": "python",
   "pygments_lexer": "ipython3",
   "version": "3.10.16"
  }
 },
 "nbformat": 4,
 "nbformat_minor": 5
}
