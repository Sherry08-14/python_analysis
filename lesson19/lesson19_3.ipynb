{
 "cells": [
  {
   "cell_type": "markdown",
   "id": "ae90b68a",
   "metadata": {},
   "source": [
    "\n",
    "https://www.perplexity.ai/search/c7c67e8b-1075-40c1-ab9e-69b6324a8954"
   ]
  },
  {
   "cell_type": "code",
   "execution_count": 2,
   "id": "cca15cfb",
   "metadata": {},
   "outputs": [
    {
     "name": "stdout",
     "output_type": "stream",
     "text": [
      "Requirement already satisfied: yfinance in c:\\users\\sherr\\miniconda3\\envs\\myenv\\lib\\site-packages (0.2.63)\n",
      "Requirement already satisfied: pandas>=1.3.0 in c:\\users\\sherr\\miniconda3\\envs\\myenv\\lib\\site-packages (from yfinance) (2.2.3)\n",
      "Requirement already satisfied: numpy>=1.16.5 in c:\\users\\sherr\\miniconda3\\envs\\myenv\\lib\\site-packages (from yfinance) (2.2.6)\n",
      "Requirement already satisfied: requests>=2.31 in c:\\users\\sherr\\miniconda3\\envs\\myenv\\lib\\site-packages (from yfinance) (2.32.3)\n",
      "Requirement already satisfied: multitasking>=0.0.7 in c:\\users\\sherr\\miniconda3\\envs\\myenv\\lib\\site-packages (from yfinance) (0.0.11)\n",
      "Requirement already satisfied: platformdirs>=2.0.0 in c:\\users\\sherr\\miniconda3\\envs\\myenv\\lib\\site-packages (from yfinance) (4.3.8)\n",
      "Requirement already satisfied: pytz>=2022.5 in c:\\users\\sherr\\miniconda3\\envs\\myenv\\lib\\site-packages (from yfinance) (2025.2)\n",
      "Requirement already satisfied: frozendict>=2.3.4 in c:\\users\\sherr\\miniconda3\\envs\\myenv\\lib\\site-packages (from yfinance) (2.4.6)\n",
      "Requirement already satisfied: peewee>=3.16.2 in c:\\users\\sherr\\miniconda3\\envs\\myenv\\lib\\site-packages (from yfinance) (3.18.1)\n",
      "Requirement already satisfied: beautifulsoup4>=4.11.1 in c:\\users\\sherr\\miniconda3\\envs\\myenv\\lib\\site-packages (from yfinance) (4.13.4)\n",
      "Requirement already satisfied: curl_cffi>=0.7 in c:\\users\\sherr\\miniconda3\\envs\\myenv\\lib\\site-packages (from yfinance) (0.11.3)\n",
      "Requirement already satisfied: protobuf>=3.19.0 in c:\\users\\sherr\\miniconda3\\envs\\myenv\\lib\\site-packages (from yfinance) (6.31.1)\n",
      "Requirement already satisfied: websockets>=13.0 in c:\\users\\sherr\\miniconda3\\envs\\myenv\\lib\\site-packages (from yfinance) (15.0.1)\n",
      "Requirement already satisfied: soupsieve>1.2 in c:\\users\\sherr\\miniconda3\\envs\\myenv\\lib\\site-packages (from beautifulsoup4>=4.11.1->yfinance) (2.7)\n",
      "Requirement already satisfied: typing-extensions>=4.0.0 in c:\\users\\sherr\\miniconda3\\envs\\myenv\\lib\\site-packages (from beautifulsoup4>=4.11.1->yfinance) (4.13.2)\n",
      "Requirement already satisfied: cffi>=1.12.0 in c:\\users\\sherr\\miniconda3\\envs\\myenv\\lib\\site-packages (from curl_cffi>=0.7->yfinance) (1.17.1)\n",
      "Requirement already satisfied: certifi>=2024.2.2 in c:\\users\\sherr\\miniconda3\\envs\\myenv\\lib\\site-packages (from curl_cffi>=0.7->yfinance) (2025.4.26)\n",
      "Requirement already satisfied: pycparser in c:\\users\\sherr\\miniconda3\\envs\\myenv\\lib\\site-packages (from cffi>=1.12.0->curl_cffi>=0.7->yfinance) (2.22)\n",
      "Requirement already satisfied: python-dateutil>=2.8.2 in c:\\users\\sherr\\miniconda3\\envs\\myenv\\lib\\site-packages (from pandas>=1.3.0->yfinance) (2.9.0.post0)\n",
      "Requirement already satisfied: tzdata>=2022.7 in c:\\users\\sherr\\miniconda3\\envs\\myenv\\lib\\site-packages (from pandas>=1.3.0->yfinance) (2025.2)\n",
      "Requirement already satisfied: six>=1.5 in c:\\users\\sherr\\miniconda3\\envs\\myenv\\lib\\site-packages (from python-dateutil>=2.8.2->pandas>=1.3.0->yfinance) (1.17.0)\n",
      "Requirement already satisfied: charset-normalizer<4,>=2 in c:\\users\\sherr\\miniconda3\\envs\\myenv\\lib\\site-packages (from requests>=2.31->yfinance) (3.4.2)\n",
      "Requirement already satisfied: idna<4,>=2.5 in c:\\users\\sherr\\miniconda3\\envs\\myenv\\lib\\site-packages (from requests>=2.31->yfinance) (3.10)\n",
      "Requirement already satisfied: urllib3<3,>=1.21.1 in c:\\users\\sherr\\miniconda3\\envs\\myenv\\lib\\site-packages (from requests>=2.31->yfinance) (2.4.0)\n"
     ]
    }
   ],
   "source": [
    "!pip install yfinance"
   ]
  },
  {
   "cell_type": "code",
   "execution_count": 9,
   "id": "c2f4fa62",
   "metadata": {},
   "outputs": [
    {
     "name": "stderr",
     "output_type": "stream",
     "text": [
      "[*********************100%***********************]  1 of 1 completed\n"
     ]
    },
    {
     "data": {
      "text/plain": [
       "Date\n",
       "2024-01-02    582.770752\n",
       "2024-01-03    568.029480\n",
       "2024-01-04    569.994934\n",
       "2024-01-05    566.064026\n",
       "2024-01-08    572.943237\n",
       "                 ...    \n",
       "2024-05-27    857.997559\n",
       "2024-05-28    854.048157\n",
       "2024-05-29    846.149475\n",
       "2024-05-30    827.390015\n",
       "2024-05-31    810.605225\n",
       "Name: 2330.TW, Length: 98, dtype: float64"
      ]
     },
     "execution_count": 9,
     "metadata": {},
     "output_type": "execute_result"
    }
   ],
   "source": [
    "import yfinance as yf\n",
    "ticker = '2330.TW'  # 台灣50 ETF\n",
    "start_date = '2024-01-01'\n",
    "end_date = '2024-06-01'\n",
    "\n",
    "data = yf.download(ticker, start=start_date, end=end_date, interval='1d',auto_adjust=False)\n",
    "data['Adj Close']['2330.TW']"
   ]
  },
  {
   "cell_type": "code",
   "execution_count": 10,
   "id": "d6c8d3d2",
   "metadata": {},
   "outputs": [
    {
     "name": "stderr",
     "output_type": "stream",
     "text": [
      "[*********************100%***********************]  1 of 1 completed\n",
      "[*********************100%***********************]  1 of 1 completed\n",
      "[*********************100%***********************]  1 of 1 completed\n",
      "[*********************100%***********************]  1 of 1 completed\n"
     ]
    }
   ],
   "source": [
    "from pandas import DataFrame\n",
    "start_date = '2024-01-01'\n",
    "end_date = '2025-01-01'\n",
    "\n",
    "tickers = ['2330.TW', '2303.TW', '2454.TW', '2317.TW']\n",
    "all_data:dict[str:DataFrame]= {ticker: yf.download(ticker,start=start_date, end=end_date, interval='1d',auto_adjust=False) for ticker in tickers }"
   ]
  },
  {
   "cell_type": "code",
   "execution_count": 13,
   "id": "fe71ff70",
   "metadata": {},
   "outputs": [
    {
     "data": {
      "text/plain": [
       "{'2330.TW': Price         Adj Close   Close    High     Low    Open    Volume\n",
       " Ticker          2330.TW 2330.TW 2330.TW 2330.TW 2330.TW   2330.TW\n",
       " Date                                                             \n",
       " 2024-01-02   582.770691   593.0   593.0   589.0   590.0  26059058\n",
       " 2024-01-03   568.029480   578.0   585.0   576.0   584.0  37106763\n",
       " 2024-01-04   569.994995   580.0   581.0   577.0   580.0  15309129\n",
       " 2024-01-05   566.063965   576.0   580.0   574.0   578.0  18158971\n",
       " 2024-01-08   572.943237   583.0   585.0   579.0   582.0  17761275\n",
       " ...                 ...     ...     ...     ...     ...       ...\n",
       " 2024-12-25  1075.403198  1085.0  1090.0  1080.0  1090.0  15481622\n",
       " 2024-12-26  1075.403198  1085.0  1090.0  1085.0  1085.0  14374900\n",
       " 2024-12-27  1080.358887  1090.0  1095.0  1080.0  1080.0  24948385\n",
       " 2024-12-30  1080.358887  1090.0  1095.0  1085.0  1090.0  23954634\n",
       " 2024-12-31  1065.491699  1075.0  1085.0  1075.0  1080.0  28397820\n",
       " \n",
       " [242 rows x 6 columns],\n",
       " '2303.TW': Price       Adj Close      Close       High        Low       Open    Volume\n",
       " Ticker        2303.TW    2303.TW    2303.TW    2303.TW    2303.TW   2303.TW\n",
       " Date                                                                       \n",
       " 2024-01-02  49.163513  51.900002  52.799999  51.299999  52.500000  64217881\n",
       " 2024-01-03  47.932056  50.599998  51.299999  50.500000  51.200001  75978300\n",
       " 2024-01-04  48.121510  50.799999  50.900002  50.200001  50.500000  56554331\n",
       " 2024-01-05  48.121510  50.799999  52.200001  50.599998  51.599998  77391673\n",
       " 2024-01-08  47.837330  50.500000  51.000000  50.099998  51.000000  63869803\n",
       " ...               ...        ...        ...        ...        ...       ...\n",
       " 2024-12-25  44.049999  44.049999  44.700001  44.049999  44.500000  52528974\n",
       " 2024-12-26  43.700001  43.700001  44.299999  43.500000  44.299999  26686974\n",
       " 2024-12-27  43.599998  43.599998  44.049999  43.450001  43.549999  22648295\n",
       " 2024-12-30  43.099998  43.099998  43.599998  43.099998  43.200001  25586120\n",
       " 2024-12-31  43.049999  43.049999  43.450001  42.200001  42.700001  43445308\n",
       " \n",
       " [242 rows x 6 columns],\n",
       " '2454.TW': Price         Adj Close   Close    High     Low    Open    Volume\n",
       " Ticker          2454.TW 2454.TW 2454.TW 2454.TW 2454.TW   2454.TW\n",
       " Date                                                             \n",
       " 2024-01-02   915.833130   981.0  1015.0   980.0  1010.0  10009034\n",
       " 2024-01-03   889.693176   953.0   977.0   953.0   976.0  12547023\n",
       " 2024-01-04   889.309875   928.0   947.0   922.0   940.0   8449251\n",
       " 2024-01-05   882.601685   921.0   935.0   921.0   929.0   5524580\n",
       " 2024-01-08   881.643372   920.0   936.0   918.0   930.0   5553064\n",
       " ...                 ...     ...     ...     ...     ...       ...\n",
       " 2024-12-25  1381.102417  1410.0  1430.0  1410.0  1420.0   2381315\n",
       " 2024-12-26  1390.897583  1420.0  1430.0  1415.0  1420.0   2351336\n",
       " 2024-12-27  1400.692627  1430.0  1440.0  1420.0  1420.0   2283253\n",
       " 2024-12-30  1390.897583  1420.0  1435.0  1420.0  1430.0   2765852\n",
       " 2024-12-31  1386.000000  1415.0  1425.0  1400.0  1410.0   3224086\n",
       " \n",
       " [242 rows x 6 columns],\n",
       " '2317.TW': Price        Adj Close   Close    High     Low    Open    Volume\n",
       " Ticker         2317.TW 2317.TW 2317.TW 2317.TW 2317.TW   2317.TW\n",
       " Date                                                            \n",
       " 2024-01-02  102.375000   105.0   105.0   104.0   104.5  19921105\n",
       " 2024-01-03  101.887505   104.5   105.0   104.0   104.5  18957682\n",
       " 2024-01-04  101.400002   104.0   105.0   104.0   104.5  15488559\n",
       " 2024-01-05  101.400002   104.0   104.5   104.0   104.0  13349572\n",
       " 2024-01-08   98.962502   101.5   104.0   101.5   103.5  34642006\n",
       " ...                ...     ...     ...     ...     ...       ...\n",
       " 2024-12-25  186.500000   186.5   188.0   186.0   186.5  21198608\n",
       " 2024-12-26  187.500000   187.5   189.0   187.0   187.5  35581123\n",
       " 2024-12-27  186.500000   186.5   188.0   185.5   187.5  20870917\n",
       " 2024-12-30  185.000000   185.0   187.0   184.5   185.5  23909208\n",
       " 2024-12-31  184.000000   184.0   185.0   183.0   184.5  21179875\n",
       " \n",
       " [242 rows x 6 columns]}"
      ]
     },
     "execution_count": 13,
     "metadata": {},
     "output_type": "execute_result"
    }
   ],
   "source": [
    "\n",
    "all_data"
   ]
  },
  {
   "cell_type": "code",
   "execution_count": 22,
   "id": "18494f23",
   "metadata": {},
   "outputs": [
    {
     "data": {
      "text/html": [
       "<div>\n",
       "<style scoped>\n",
       "    .dataframe tbody tr th:only-of-type {\n",
       "        vertical-align: middle;\n",
       "    }\n",
       "\n",
       "    .dataframe tbody tr th {\n",
       "        vertical-align: top;\n",
       "    }\n",
       "\n",
       "    .dataframe thead th {\n",
       "        text-align: right;\n",
       "    }\n",
       "</style>\n",
       "<table border=\"1\" class=\"dataframe\">\n",
       "  <thead>\n",
       "    <tr style=\"text-align: right;\">\n",
       "      <th></th>\n",
       "      <th>台積電</th>\n",
       "      <th>聯電</th>\n",
       "      <th>聯發科</th>\n",
       "      <th>鴻海</th>\n",
       "    </tr>\n",
       "    <tr>\n",
       "      <th>Date</th>\n",
       "      <th></th>\n",
       "      <th></th>\n",
       "      <th></th>\n",
       "      <th></th>\n",
       "    </tr>\n",
       "  </thead>\n",
       "  <tbody>\n",
       "    <tr>\n",
       "      <th>2024-01-02</th>\n",
       "      <td>582.770691</td>\n",
       "      <td>49.163513</td>\n",
       "      <td>915.833130</td>\n",
       "      <td>102.375000</td>\n",
       "    </tr>\n",
       "    <tr>\n",
       "      <th>2024-01-03</th>\n",
       "      <td>568.029480</td>\n",
       "      <td>47.932056</td>\n",
       "      <td>889.693176</td>\n",
       "      <td>101.887505</td>\n",
       "    </tr>\n",
       "    <tr>\n",
       "      <th>2024-01-04</th>\n",
       "      <td>569.994995</td>\n",
       "      <td>48.121510</td>\n",
       "      <td>889.309875</td>\n",
       "      <td>101.400002</td>\n",
       "    </tr>\n",
       "    <tr>\n",
       "      <th>2024-01-05</th>\n",
       "      <td>566.063965</td>\n",
       "      <td>48.121510</td>\n",
       "      <td>882.601685</td>\n",
       "      <td>101.400002</td>\n",
       "    </tr>\n",
       "    <tr>\n",
       "      <th>2024-01-08</th>\n",
       "      <td>572.943237</td>\n",
       "      <td>47.837330</td>\n",
       "      <td>881.643372</td>\n",
       "      <td>98.962502</td>\n",
       "    </tr>\n",
       "    <tr>\n",
       "      <th>...</th>\n",
       "      <td>...</td>\n",
       "      <td>...</td>\n",
       "      <td>...</td>\n",
       "      <td>...</td>\n",
       "    </tr>\n",
       "    <tr>\n",
       "      <th>2024-12-25</th>\n",
       "      <td>1075.403198</td>\n",
       "      <td>44.049999</td>\n",
       "      <td>1381.102417</td>\n",
       "      <td>186.500000</td>\n",
       "    </tr>\n",
       "    <tr>\n",
       "      <th>2024-12-26</th>\n",
       "      <td>1075.403198</td>\n",
       "      <td>43.700001</td>\n",
       "      <td>1390.897583</td>\n",
       "      <td>187.500000</td>\n",
       "    </tr>\n",
       "    <tr>\n",
       "      <th>2024-12-27</th>\n",
       "      <td>1080.358887</td>\n",
       "      <td>43.599998</td>\n",
       "      <td>1400.692627</td>\n",
       "      <td>186.500000</td>\n",
       "    </tr>\n",
       "    <tr>\n",
       "      <th>2024-12-30</th>\n",
       "      <td>1080.358887</td>\n",
       "      <td>43.099998</td>\n",
       "      <td>1390.897583</td>\n",
       "      <td>185.000000</td>\n",
       "    </tr>\n",
       "    <tr>\n",
       "      <th>2024-12-31</th>\n",
       "      <td>1065.491699</td>\n",
       "      <td>43.049999</td>\n",
       "      <td>1386.000000</td>\n",
       "      <td>184.000000</td>\n",
       "    </tr>\n",
       "  </tbody>\n",
       "</table>\n",
       "<p>242 rows × 4 columns</p>\n",
       "</div>"
      ],
      "text/plain": [
       "                    台積電         聯電          聯發科          鴻海\n",
       "Date                                                       \n",
       "2024-01-02   582.770691  49.163513   915.833130  102.375000\n",
       "2024-01-03   568.029480  47.932056   889.693176  101.887505\n",
       "2024-01-04   569.994995  48.121510   889.309875  101.400002\n",
       "2024-01-05   566.063965  48.121510   882.601685  101.400002\n",
       "2024-01-08   572.943237  47.837330   881.643372   98.962502\n",
       "...                 ...        ...          ...         ...\n",
       "2024-12-25  1075.403198  44.049999  1381.102417  186.500000\n",
       "2024-12-26  1075.403198  43.700001  1390.897583  187.500000\n",
       "2024-12-27  1080.358887  43.599998  1400.692627  186.500000\n",
       "2024-12-30  1080.358887  43.099998  1390.897583  185.000000\n",
       "2024-12-31  1065.491699  43.049999  1386.000000  184.000000\n",
       "\n",
       "[242 rows x 4 columns]"
      ]
     },
     "execution_count": 22,
     "metadata": {},
     "output_type": "execute_result"
    }
   ],
   "source": [
    "import pandas as pd\n",
    "price_df = pd.DataFrame({key:DataFrame['Adj Close'][key] for key, DataFrame in all_data.items()})\n",
    "price_df1 = price_df.rename(columns={'2330.TW':'台積電','2303.TW':'聯電','2454.TW':'聯發科','2317.TW':'鴻海'})\n",
    "price_df1"
   ]
  },
  {
   "cell_type": "code",
   "execution_count": null,
   "id": "2a32a126",
   "metadata": {},
   "outputs": [
    {
     "name": "stdout",
     "output_type": "stream",
     "text": [
      "<class 'pandas.core.frame.DataFrame'>\n",
      "DatetimeIndex: 242 entries, 2024-01-02 to 2024-12-31\n",
      "Data columns (total 4 columns):\n",
      " #   Column  Non-Null Count  Dtype  \n",
      "---  ------  --------------  -----  \n",
      " 0   台積電     242 non-null    float64\n",
      " 1   聯電      242 non-null    float64\n",
      " 2   聯發科     242 non-null    float64\n",
      " 3   鴻海      242 non-null    float64\n",
      "dtypes: float64(4)\n",
      "memory usage: 9.5 KB\n"
     ]
    }
   ],
   "source": [
    "#price_df1.head()#確認前幾筆\n",
    "price_df1.info()"
   ]
  },
  {
   "cell_type": "code",
   "execution_count": null,
   "id": "fdc841a2",
   "metadata": {},
   "outputs": [],
   "source": []
  },
  {
   "cell_type": "code",
   "execution_count": null,
   "id": "bcc0c58b",
   "metadata": {},
   "outputs": [],
   "source": []
  },
  {
   "cell_type": "code",
   "execution_count": 23,
   "id": "dd2e56d8",
   "metadata": {},
   "outputs": [
    {
     "name": "stderr",
     "output_type": "stream",
     "text": [
      "[*********************100%***********************]  1 of 1 completed\n"
     ]
    },
    {
     "ename": "TypeError",
     "evalue": "download() missing 1 required positional argument: 'tickers'",
     "output_type": "error",
     "traceback": [
      "\u001b[1;31m---------------------------------------------------------------------------\u001b[0m",
      "\u001b[1;31mTypeError\u001b[0m                                 Traceback (most recent call last)",
      "Cell \u001b[1;32mIn[23], line 9\u001b[0m\n\u001b[0;32m      6\u001b[0m data \u001b[38;5;241m=\u001b[39m yf\u001b[38;5;241m.\u001b[39mdownload(ticker, start\u001b[38;5;241m=\u001b[39mstart_date, end\u001b[38;5;241m=\u001b[39mend_date, interval\u001b[38;5;241m=\u001b[39m\u001b[38;5;124m'\u001b[39m\u001b[38;5;124m1d\u001b[39m\u001b[38;5;124m'\u001b[39m,auto_adjust\u001b[38;5;241m=\u001b[39m\u001b[38;5;28;01mFalse\u001b[39;00m)\n\u001b[0;32m      7\u001b[0m data\n\u001b[1;32m----> 9\u001b[0m \u001b[43myf\u001b[49m\u001b[38;5;241;43m.\u001b[39;49m\u001b[43mdownload\u001b[49m\u001b[43m(\u001b[49m\u001b[43m)\u001b[49m\n",
      "File \u001b[1;32mc:\\Users\\sherr\\miniconda3\\envs\\myenv\\lib\\site-packages\\yfinance\\utils.py:92\u001b[0m, in \u001b[0;36mlog_indent_decorator.<locals>.wrapper\u001b[1;34m(*args, **kwargs)\u001b[0m\n\u001b[0;32m     89\u001b[0m logger\u001b[38;5;241m.\u001b[39mdebug(\u001b[38;5;124mf\u001b[39m\u001b[38;5;124m'\u001b[39m\u001b[38;5;124mEntering \u001b[39m\u001b[38;5;132;01m{\u001b[39;00mfunc\u001b[38;5;241m.\u001b[39m\u001b[38;5;18m__name__\u001b[39m\u001b[38;5;132;01m}\u001b[39;00m\u001b[38;5;124m()\u001b[39m\u001b[38;5;124m'\u001b[39m)\n\u001b[0;32m     91\u001b[0m \u001b[38;5;28;01mwith\u001b[39;00m IndentationContext():\n\u001b[1;32m---> 92\u001b[0m     result \u001b[38;5;241m=\u001b[39m func(\u001b[38;5;241m*\u001b[39margs, \u001b[38;5;241m*\u001b[39m\u001b[38;5;241m*\u001b[39mkwargs)\n\u001b[0;32m     94\u001b[0m logger\u001b[38;5;241m.\u001b[39mdebug(\u001b[38;5;124mf\u001b[39m\u001b[38;5;124m'\u001b[39m\u001b[38;5;124mExiting \u001b[39m\u001b[38;5;132;01m{\u001b[39;00mfunc\u001b[38;5;241m.\u001b[39m\u001b[38;5;18m__name__\u001b[39m\u001b[38;5;132;01m}\u001b[39;00m\u001b[38;5;124m()\u001b[39m\u001b[38;5;124m'\u001b[39m)\n\u001b[0;32m     95\u001b[0m \u001b[38;5;28;01mreturn\u001b[39;00m result\n",
      "\u001b[1;31mTypeError\u001b[0m: download() missing 1 required positional argument: 'tickers'"
     ]
    }
   ],
   "source": [
    "import yfinance as yf #取得收盤資訊\n",
    "ticker = '0050.TW'  # 台灣50 ETF\n",
    "start_date = '2024-01-01'\n",
    "end_date = '2024-06-01'\n",
    "\n",
    "data = yf.download(ticker, start=start_date, end=end_date, interval='1d',auto_adjust=False)\n",
    "data\n",
    "\n",
    "yf.download()"
   ]
  },
  {
   "cell_type": "code",
   "execution_count": null,
   "id": "2452dfed",
   "metadata": {},
   "outputs": [
    {
     "name": "stderr",
     "output_type": "stream",
     "text": [
      "[*********************100%***********************]  1 of 1 completed\n"
     ]
    },
    {
     "data": {
      "text/plain": [
       "Date\n",
       "2024-01-02    582.770752\n",
       "2024-01-03    568.029480\n",
       "2024-01-04    569.994934\n",
       "2024-01-05    566.064026\n",
       "2024-01-08    572.943237\n",
       "                 ...    \n",
       "2024-05-27    857.997559\n",
       "2024-05-28    854.048157\n",
       "2024-05-29    846.149475\n",
       "2024-05-30    827.390015\n",
       "2024-05-31    810.605225\n",
       "Name: 2330.TW, Length: 98, dtype: float64"
      ]
     },
     "execution_count": 1,
     "metadata": {},
     "output_type": "execute_result"
    }
   ],
   "source": [
    "import yfinance as yf #取得收盤資訊\n",
    "ticker = '2330.TW'  # 台灣50 ETF\n",
    "start_date = '2024-01-01'\n",
    "end_date = '2024-06-01'\n",
    "\n",
    "data = yf.download(ticker, start=start_date, end=end_date, interval='1d',auto_adjust=False)\n",
    "data['Adj Close']['2330.TW']#階層式索引\n",
    "#yf.download()"
   ]
  },
  {
   "cell_type": "code",
   "execution_count": 3,
   "id": "b05dcb16",
   "metadata": {},
   "outputs": [
    {
     "name": "stderr",
     "output_type": "stream",
     "text": [
      "[*********************100%***********************]  1 of 1 completed\n"
     ]
    },
    {
     "data": {
      "text/plain": [
       "Date\n",
       "2024-01-02    582.770752\n",
       "2024-01-03    568.029480\n",
       "2024-01-04    569.994934\n",
       "2024-01-05    566.064026\n",
       "2024-01-08    572.943237\n",
       "                 ...    \n",
       "2024-05-27    857.997559\n",
       "2024-05-28    854.048157\n",
       "2024-05-29    846.149475\n",
       "2024-05-30    827.390015\n",
       "2024-05-31    810.605225\n",
       "Name: 2330.TW, Length: 98, dtype: float64"
      ]
     },
     "execution_count": 3,
     "metadata": {},
     "output_type": "execute_result"
    }
   ],
   "source": [
    "import yfinance as yf\n",
    "ticker = '2330.TW'  # 台灣50 ETF\n",
    "start_date = '2024-01-01'\n",
    "end_date = '2024-06-01'\n",
    "\n",
    "data = yf.download(ticker, start=start_date, end=end_date, interval='1d',auto_adjust=False)\n",
    "data['Adj Close']['2330.TW']"
   ]
  },
  {
   "cell_type": "code",
   "execution_count": 6,
   "id": "88980064",
   "metadata": {},
   "outputs": [
    {
     "name": "stderr",
     "output_type": "stream",
     "text": [
      "[*********************100%***********************]  1 of 1 completed\n",
      "\n",
      "1 Failed download:\n",
      "['2330.TW']: ValueError(\"time data '20245-01-01' does not match format '%Y-%m-%d'\")\n"
     ]
    },
    {
     "name": "stderr",
     "output_type": "stream",
     "text": [
      "[*********************100%***********************]  1 of 1 completed\n",
      "\n",
      "1 Failed download:\n",
      "['2303.TW']: ValueError(\"time data '20245-01-01' does not match format '%Y-%m-%d'\")\n",
      "[*********************100%***********************]  1 of 1 completed\n",
      "\n",
      "1 Failed download:\n",
      "['2454.TW']: ValueError(\"time data '20245-01-01' does not match format '%Y-%m-%d'\")\n",
      "[*********************100%***********************]  1 of 1 completed\n",
      "\n",
      "1 Failed download:\n",
      "['2317.TW']: ValueError(\"time data '20245-01-01' does not match format '%Y-%m-%d'\")\n"
     ]
    }
   ],
   "source": [
    "from pandas import DataFrame\n",
    "start_date = '2024-01-01'\n",
    "end_date = '20245-01-01'\n",
    "\n",
    "tickers = ['2330.TW','2303.TW','2454.TW','2317.TW']\n",
    "all_data:dict[str:DataFrame] = {ticker: yf.download(ticker,start=start_date,end=end_date,interval='1d',auto_adjust=False) for ticker in tickers }#我們沒有用in iterable /condition\n",
    "\n"
   ]
  },
  {
   "cell_type": "code",
   "execution_count": 8,
   "id": "e1755dec",
   "metadata": {},
   "outputs": [
    {
     "data": {
      "text/plain": [
       "{'2330.TW': Empty DataFrame\n",
       " Columns: [(Adj Close, 2330.TW), (Close, 2330.TW), (High, 2330.TW), (Low, 2330.TW), (Open, 2330.TW), (Volume, 2330.TW)]\n",
       " Index: [],\n",
       " '2303.TW': Empty DataFrame\n",
       " Columns: [(Adj Close, 2303.TW), (Close, 2303.TW), (High, 2303.TW), (Low, 2303.TW), (Open, 2303.TW), (Volume, 2303.TW)]\n",
       " Index: [],\n",
       " '2454.TW': Empty DataFrame\n",
       " Columns: [(Adj Close, 2454.TW), (Close, 2454.TW), (High, 2454.TW), (Low, 2454.TW), (Open, 2454.TW), (Volume, 2454.TW)]\n",
       " Index: [],\n",
       " '2317.TW': Empty DataFrame\n",
       " Columns: [(Adj Close, 2317.TW), (Close, 2317.TW), (High, 2317.TW), (Low, 2317.TW), (Open, 2317.TW), (Volume, 2317.TW)]\n",
       " Index: []}"
      ]
     },
     "execution_count": 8,
     "metadata": {},
     "output_type": "execute_result"
    }
   ],
   "source": [
    "all_data"
   ]
  }
 ],
 "metadata": {
  "kernelspec": {
   "display_name": "myenv",
   "language": "python",
   "name": "python3"
  },
  "language_info": {
   "codemirror_mode": {
    "name": "ipython",
    "version": 3
   },
   "file_extension": ".py",
   "mimetype": "text/x-python",
   "name": "python",
   "nbconvert_exporter": "python",
   "pygments_lexer": "ipython3",
   "version": "3.10.16"
  }
 },
 "nbformat": 4,
 "nbformat_minor": 5
}
