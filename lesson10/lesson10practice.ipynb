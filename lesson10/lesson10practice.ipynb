{
 "cells": [
  {
   "cell_type": "code",
   "execution_count": 21,
   "id": "b59d39ec",
   "metadata": {},
   "outputs": [
    {
     "name": "stdout",
     "output_type": "stream",
     "text": [
      "PM2.5 小於 10 的筆數共 649 筆：\n",
      "曾經PM2.5小於10的站點有: {'古亭', '臺東', '士林', '馬公', '三重', '二林', '桃園', '中山', '大城', '花蓮', '沙鹿', '宜蘭（頭城）', '大園', '屏東(枋山)', '臺南（麻豆）', '金門', '臺西', '萬華', '基隆', '苗栗', '西屯', '中壢', '板橋', '永和', '宜蘭', '大里', '大同', '菜寮', '萬里', '線西', '新北(樹林)', '忠明', '頭份', '彰化（員林）', '汐止', '林口', '朴子', '湖口', '平鎮', '南投', '松山', '龍潭', '冬山', '新港', '新竹', '恆春', '土城', '麥寮', '淡水', '新店', '善化', '豐原', '竹東', '富貴角', '斗六', '彰化', '竹山', '高雄（湖內）', '關山', '觀音', '崙背', '三義', '新營', '陽明', '新莊'}\n",
      "Top 10 stations with highest PM2.5:\n",
      "  潮州 87.0 2024-11-21 15:00\n",
      "  潮州 67.0 2024-11-21 16:00\n",
      "  潮州 67.0 2024-11-21 16:00\n",
      "  潮州 48.0 2024-11-21 21:00\n",
      "  潮州 47.0 2024-11-21 18:00\n",
      "  潮州 47.0 2024-11-21 18:00\n",
      "  潮州 45.0 2024-11-21 19:00\n",
      "  潮州 45.0 2024-11-21 19:00\n",
      "  大寮 45.0 2024-11-21 15:00\n",
      "  潮州 42.0 2024-11-21 17:00\n"
     ]
    }
   ],
   "source": [
    "#20250514homework(資料來源:aqx_p_488.csv)\n",
    "#找出pm2.5小於10的站點\n",
    "#找出pm2.5最差的10個站點\n",
    "\n",
    "import csv \n",
    "from csv import DictReader\n",
    "# 使用 DictReader 讀取 CSV 檔案\n",
    "file_path = 'aqx_p_488.csv'\n",
    "data = []\n",
    "\n",
    "with open(file_path, newline='', encoding='utf-8') as csvfile:\n",
    "    reader = DictReader(csvfile)\n",
    "    for row in reader:\n",
    "        # Strip whitespace from all string values in the row\n",
    "        stripped_row = {key: value.strip() if isinstance(value, str) else value for key, value in row.items()}\n",
    "        # Convert pm2.5 to float, skip rows with invalid pm2.5 values\n",
    "        try:\n",
    "            stripped_row['pm2.5'] = float(stripped_row['pm2.5']) #將（key）為 'pm2.5' 的值轉換成浮點數後再重新賦值\n",
    "            data.append(stripped_row) #append是一種新增變數名稱為stripped_row的資料到data list尾端的內建方法\n",
    "        except (ValueError, TypeError):\n",
    "            continue\n",
    "\n",
    "# Filter and print out stations with pm2.5 < 10 neatly\n",
    "pm25_less_than_10 = [row for row in data if row['pm2.5'] < 10]\n",
    "sites_with_pm25_less_than_10 = set(row['sitename'] for row in data if row['pm2.5'] < 10)\n",
    "\n",
    "print(f\"PM2.5 小於 10 的筆數共 {len(pm25_less_than_10)} 筆：\") ###因為同地點不同時間值有可能大於或小於標準所以列示創建日時之筆數\n",
    "print(f\"曾經PM2.5小於10的站點有: {sites_with_pm25_less_than_10}\", end='\\n')\n",
    "#for row in pm25_less_than_10:\n",
    "#    print(f\"  {row['sitename']} {row['pm2.5']} {row['datacreationdate']}\")\n",
    "\n",
    "# Sort data by pm2.5 in descending order and get top 10 then print out neatly\n",
    "#Reverse=true是由大到小. [:10]是前10個, [-10:]是後十個\n",
    "pm25_worst_10 = sorted(data, key=lambda x: x['pm2.5'], reverse=True)[:10]\n",
    "\n",
    "print(\"Top 10 stations with highest PM2.5:\")\n",
    "for row in pm25_worst_10:\n",
    "    print(f\"  {row['sitename']} {row['pm2.5']} {row['datacreationdate']}\")\n"
   ]
  },
  {
   "cell_type": "code",
   "execution_count": null,
   "id": "2ed38db8",
   "metadata": {},
   "outputs": [],
   "source": [
    "#以下供參考(pandas)\n",
    "import pandas as pd\n",
    "\n",
    "# 讀取CSV檔案\n",
    "file_path = 'aqx_p_488.csv'\n",
    "data = pd.read_csv(file_path)\n",
    "\n",
    "# 篩選pm2.5小於10的站點\n",
    "pm25_less_than_10 = data[data['pm2.5'] < 10][['sitename', 'pm2.5', 'datacreationdate']]\n",
    "print(pm25_less_than_10)\n",
    "\n",
    "# 找出pm2.5最差的10個站點，依pm2.5由大到小排序\n",
    "pm25_worst_10 = data[['sitename', 'pm2.5', 'datacreationdate']].sort_values(by='pm2.5', ascending=False).head(10)\n",
    "print(pm25_worst_10)"
   ]
  }
 ],
 "metadata": {
  "kernelspec": {
   "display_name": "base",
   "language": "python",
   "name": "python3"
  },
  "language_info": {
   "codemirror_mode": {
    "name": "ipython",
    "version": 3
   },
   "file_extension": ".py",
   "mimetype": "text/x-python",
   "name": "python",
   "nbconvert_exporter": "python",
   "pygments_lexer": "ipython3",
   "version": "3.12.7"
  }
 },
 "nbformat": 4,
 "nbformat_minor": 5
}
