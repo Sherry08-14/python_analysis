{
 "cells": [
  {
   "cell_type": "markdown",
   "id": "0c9b9e5f",
   "metadata": {},
   "source": [
    "https://www.perplexity.ai/search/0638400d-59de-4d83-8e38-0cb807daf590"
   ]
  },
  {
   "cell_type": "code",
   "execution_count": 4,
   "id": "68bb0faa",
   "metadata": {},
   "outputs": [],
   "source": [
    "import numpy as np\n",
    "from numpy import ndarray\n",
    "\n",
    "my_array:ndarray = np.arange(1000000)\n",
    "my_list = list(range(1000000))"
   ]
  },
  {
   "cell_type": "code",
   "execution_count": 5,
   "id": "513e37ea",
   "metadata": {},
   "outputs": [
    {
     "name": "stdout",
     "output_type": "stream",
     "text": [
      "CPU times: total: 0 ns\n",
      "Wall time: 0 ns\n"
     ]
    }
   ],
   "source": [
    "%time \n",
    "\n",
    "for _ in range(10):\n",
    "    #list的comprehension,list綜合表達式\n",
    "    my_lists = [x*2 for x in my_list]"
   ]
  },
  {
   "cell_type": "code",
   "execution_count": 6,
   "id": "ea80d1f7",
   "metadata": {},
   "outputs": [
    {
     "name": "stdout",
     "output_type": "stream",
     "text": [
      "CPU times: total: 46.9 ms\n",
      "Wall time: 65.6 ms\n"
     ]
    }
   ],
   "source": [
    "%time for _ in range(10): my_array2 = my_array * 2"
   ]
  }
 ],
 "metadata": {
  "kernelspec": {
   "display_name": "myenv",
   "language": "python",
   "name": "python3"
  },
  "language_info": {
   "codemirror_mode": {
    "name": "ipython",
    "version": 3
   },
   "file_extension": ".py",
   "mimetype": "text/x-python",
   "name": "python",
   "nbconvert_exporter": "python",
   "pygments_lexer": "ipython3",
   "version": "3.10.16"
  }
 },
 "nbformat": 4,
 "nbformat_minor": 5
}
