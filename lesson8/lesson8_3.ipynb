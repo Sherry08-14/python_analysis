{
 "cells": [
  {
   "cell_type": "markdown",
   "id": "c2ab804e",
   "metadata": {},
   "source": [
    "### 組合多筆資料成為有順序的資料[list]"
   ]
  },
  {
   "cell_type": "code",
   "execution_count": 1,
   "id": "dde41eda",
   "metadata": {},
   "outputs": [
    {
     "data": {
      "text/plain": [
       "list"
      ]
     },
     "execution_count": 1,
     "metadata": {},
     "output_type": "execute_result"
    }
   ],
   "source": [
    "nums = [1,2,3,4,'a','b','c']\n",
    "type(nums)"
   ]
  },
  {
   "cell_type": "markdown",
   "id": "32ec821a",
   "metadata": {},
   "source": [
    "### list內的元素, 一般都是相同的資料類型\n"
   ]
  },
  {
   "cell_type": "code",
   "execution_count": 8,
   "id": "a700915b",
   "metadata": {},
   "outputs": [
    {
     "data": {
      "text/plain": [
       "[10, 20, 30, 40, 50, 60, 70, 80, 90, 100]"
      ]
     },
     "execution_count": 8,
     "metadata": {},
     "output_type": "execute_result"
    }
   ],
   "source": [
    "nums:list[int] = [10, 20, 30, 40, 50, 60, 70, 80, 90, 100]#這裡是序列是0到9或是-10到-1\n",
    "nums"
   ]
  },
  {
   "cell_type": "code",
   "execution_count": 4,
   "id": "b3279294",
   "metadata": {},
   "outputs": [
    {
     "data": {
      "text/plain": [
       "10"
      ]
     },
     "execution_count": 4,
     "metadata": {},
     "output_type": "execute_result"
    }
   ],
   "source": [
    "#取出元素\n",
    "nums[0]\n",
    "nums[1]\n",
    "nums[9]\n",
    "nums[-1]"
   ]
  },
  {
   "cell_type": "code",
   "execution_count": null,
   "id": "8fe35f48",
   "metadata": {},
   "outputs": [
    {
     "data": {
      "text/plain": [
       "[60, 70, 80, 90, 100]"
      ]
     },
     "execution_count": 10,
     "metadata": {},
     "output_type": "execute_result"
    }
   ],
   "source": [
    "#切割元素(slice)\n",
    "nums[0:5]\n",
    "nums[3:5]\n",
    "nums[0:5]#前五個\n",
    "nums[:5]#前五個\n",
    "nums[-5:]#後五個"
   ]
  },
  {
   "cell_type": "code",
   "execution_count": 11,
   "id": "d41423eb",
   "metadata": {},
   "outputs": [
    {
     "name": "stdout",
     "output_type": "stream",
     "text": [
      "10 20 30 40 50 60 70 80 90 100 "
     ]
    }
   ],
   "source": [
    "#list是串列資料, 代表可以iterable\n",
    "for i in nums:\n",
    "    print(i, end=' ')"
   ]
  }
 ],
 "metadata": {
  "kernelspec": {
   "display_name": "base",
   "language": "python",
   "name": "python3"
  },
  "language_info": {
   "codemirror_mode": {
    "name": "ipython",
    "version": 3
   },
   "file_extension": ".py",
   "mimetype": "text/x-python",
   "name": "python",
   "nbconvert_exporter": "python",
   "pygments_lexer": "ipython3",
   "version": "3.12.7"
  }
 },
 "nbformat": 4,
 "nbformat_minor": 5
}
