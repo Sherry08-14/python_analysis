{
 "cells": [
  {
   "cell_type": "markdown",
   "id": "1b5a4a68",
   "metadata": {},
   "source": [
    "https://www.perplexity.ai/search/0eafd6c8-1230-4d5d-9553-446ea1f18997"
   ]
  },
  {
   "cell_type": "code",
   "execution_count": null,
   "id": "241ab8e3",
   "metadata": {},
   "outputs": [],
   "source": [
    "###學生成績單\n",
    "\n",
    "import numpy as np\n",
    "import pandas as pd\n",
    "\n",
    "scores = np.random.randint(50, 101, size=(50,5))\n",
    "scores_pd = pd.DataFrame(scores,columns=['國文','英文','數學','地理','歷史'],index=range(1,51))\n",
    "scores_pd.T#欄列對調"
   ]
  },
  {
   "cell_type": "code",
   "execution_count": null,
   "id": "24ed9f9c",
   "metadata": {},
   "outputs": [],
   "source": [
    "scores_pd.index\n",
    "scores_pd.index.name='學號'\n",
    "scores_pd.columns.name='科目'\n",
    "sum_value = scores_pd['總分']=scores_pd.sum(axis=1)\n",
    "mean_value = np.mean(scores_pd,axis=1)\n",
    "#有改變它就不要再執行這一塊"
   ]
  },
  {
   "cell_type": "code",
   "execution_count": null,
   "id": "9aff8f54",
   "metadata": {},
   "outputs": [],
   "source": [
    "scores_pd['總分']=sum_value\n",
    "scores_pd['平均']=mean_value\n"
   ]
  },
  {
   "cell_type": "code",
   "execution_count": null,
   "id": "d1c7f895",
   "metadata": {},
   "outputs": [],
   "source": [
    "#排序\n",
    "scores_pd1 = scores_pd.sort_values(by='總分',ascending=False)\n",
    "scores_pd1"
   ]
  },
  {
   "cell_type": "code",
   "execution_count": null,
   "id": "3e9edb92",
   "metadata": {},
   "outputs": [],
   "source": [
    "#排序ascending是由小到大\n",
    "#scores_pd1=scores_pd.sort_values(by='總分',ascending=False)\n",
    "scores_pd1.rank(axis=0,method='average')"
   ]
  },
  {
   "cell_type": "code",
   "execution_count": null,
   "id": "63882de7",
   "metadata": {},
   "outputs": [],
   "source": [
    "#排序\n",
    "scores_pd1['排名'] = scores_pd1['總分'].rank(axis=0,method='max',ascending=False)"
   ]
  },
  {
   "cell_type": "code",
   "execution_count": null,
   "id": "d6968ff6",
   "metadata": {},
   "outputs": [],
   "source": [
    "scores_pd1\n",
    "scores_pd1.iloc[-5:]"
   ]
  },
  {
   "cell_type": "code",
   "execution_count": null,
   "id": "b815469a",
   "metadata": {},
   "outputs": [],
   "source": [
    "scores_pd1\n",
    "scores_pd1.map(lambda v:float(v))"
   ]
  },
  {
   "cell_type": "code",
   "execution_count": null,
   "id": "0100989d",
   "metadata": {},
   "outputs": [],
   "source": [
    "def calulate(s): \n",
    "    #return 自訂的series\n",
    "    custom_series = pd.Series([s.min()],index=['最小分數'])\n",
    "    return custom_series\n",
    "scores_pd1.iloc[:,:5].apply(calulate)"
   ]
  },
  {
   "cell_type": "code",
   "execution_count": null,
   "id": "e1029ebd",
   "metadata": {},
   "outputs": [],
   "source": [
    "def calulate(s): \n",
    "    #return 自訂的series\n",
    "    custom_series = pd.Series([s.min(),s.max(),s.median(),s.std()],index=['最小分數',\"最高分數\",'中間值','標準差'])\n",
    "    return custom_series\n",
    "scores_pd1.iloc[:,:5].apply(calulate)"
   ]
  },
  {
   "cell_type": "code",
   "execution_count": null,
   "id": "7cd99dc2",
   "metadata": {},
   "outputs": [],
   "source": [
    "def calulate(s): \n",
    "    #return 自訂的series\n",
    "    s_bool = s < 60\n",
    "    return s_bool.sum()\n",
    "scores_pd1['不及格的科目'] = scores_pd1.iloc[:,:5].apply(calulate,axis=1)\n",
    "#scores_pd1[\"不及格的課目\"] = scores_pd1.iloc[:,:5].apply(calulate1,axis=1)"
   ]
  },
  {
   "cell_type": "code",
   "execution_count": null,
   "id": "5683d2af",
   "metadata": {},
   "outputs": [],
   "source": [
    "scores_pd1"
   ]
  }
 ],
 "metadata": {
  "kernelspec": {
   "display_name": "myenv",
   "language": "python",
   "name": "python3"
  },
  "language_info": {
   "codemirror_mode": {
    "name": "ipython",
    "version": 3
   },
   "file_extension": ".py",
   "mimetype": "text/x-python",
   "name": "python",
   "nbconvert_exporter": "python",
   "pygments_lexer": "ipython3",
   "version": "3.10.16"
  }
 },
 "nbformat": 4,
 "nbformat_minor": 5
}
