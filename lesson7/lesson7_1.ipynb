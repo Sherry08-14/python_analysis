{
 "cells": [
  {
   "cell_type": "code",
   "execution_count": null,
   "id": "32a88d0d",
   "metadata": {},
   "outputs": [
    {
     "data": {
      "text/plain": [
       "24.0"
      ]
     },
     "execution_count": 4,
     "metadata": {},
     "output_type": "execute_result"
    }
   ],
   "source": [
    "if__name__ == '__main__'\n",
    "height:int = int(input(\"請輸入身高公分\"))\n",
    "weight:int = int(input(\"請輸入體重公斤\"))\n",
    "BMI = round(weight/pow(height/100,2),1)\n",
    "\n",
    "print(f\"身高:{height}cm\")\n",
    "print(f\"體重:{weight}kg\")\n",
    "print(f\"BMI:{BMI}\")\n",
    "\n",
    "if BMI <18.5:\n",
    "    status ='體重過輕'\n",
    "\n",
    "if BMI < 18.5:\n",
    "    status = \"體重過輕\"\n",
    "elif BMI < 24:\n",
    "    status = \"正常\"\n",
    "elif BMI < 27:\n",
    "    status = \"過重\"\n",
    "elif BMI < 30:\n",
    "    status = \"輕度肥胖\"\n",
    "elif BMI <35:\n",
    "    status = \"中度肥胖\"\n",
    "else:\n",
    "    status = \"重度肥胖\"\n",
    "print(f\"狀態:{status}\")\n",
    "\n"
   ]
  },
  {
   "cell_type": "code",
   "execution_count": null,
   "id": "e74d6795",
   "metadata": {},
   "outputs": [],
   "source": [
    "if BMI < 18.5:\n",
    "    status = \"體重過輕\"\n",
    "elif BMI < 24:\n",
    "    status = \"正常\"\n",
    "elif BMI < 27:\n",
    "    status = \"過重\"\n",
    "elif BMI < 30:\n",
    "    status = \"輕度肥胖\"\n",
    "elif BMI <35:\n",
    "    status = \"中度肥胖\"\n",
    "else:\n",
    "    status = \"重度肥胖\"\n",
    "print(f\"狀態:{status}\")"
   ]
  },
  {
   "cell_type": "markdown",
   "id": "8921d9fa",
   "metadata": {},
   "source": [
    "ipynb是\n",
    "py是專案, 程式碼是全部程式碼靠左, def main 後的程式碼要內縮\n",
    "全域變數, bash是linus的終端機\n",
    "Micropsoft終端機是comand prompt powershell\n",
    "Mac終端機是zac\n",
    "區域變數就是有用=建立的變數, 只能用在function(main的命名空間)\n",
    "而沒有=的是全域變數"
   ]
  }
 ],
 "metadata": {
  "kernelspec": {
   "display_name": "base",
   "language": "python",
   "name": "python3"
  },
  "language_info": {
   "codemirror_mode": {
    "name": "ipython",
    "version": 3
   },
   "file_extension": ".py",
   "mimetype": "text/x-python",
   "name": "python",
   "nbconvert_exporter": "python",
   "pygments_lexer": "ipython3",
   "version": "3.12.7"
  }
 },
 "nbformat": 4,
 "nbformat_minor": 5
}
