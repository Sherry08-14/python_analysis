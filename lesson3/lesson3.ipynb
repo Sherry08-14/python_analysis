{
 "cells": [
  {
   "cell_type": "markdown",
   "id": "a1d16f51",
   "metadata": {},
   "source": [
    "##這是第3節上課內容\n"
   ]
  },
  {
   "cell_type": "code",
   "execution_count": 1,
   "id": "10308ebd",
   "metadata": {},
   "outputs": [
    {
     "name": "stdout",
     "output_type": "stream",
     "text": [
      "85030.8368\n",
      "矩形的寬:345.8 高:245.896 面積是:85030.84\n"
     ]
    }
   ],
   "source": [
    "width = 345.8\n",
    "height = 245.896\n",
    "type(width)\n",
    "type(height)\n",
    "area = width * height\n",
    "print(area) #float = float * int\n",
    "print(f\"矩形的寬:{width} 高:{height} 面積是:{round(area,ndigits=2)}\")"
   ]
  }
 ],
 "metadata": {
  "kernelspec": {
   "display_name": "base",
   "language": "python",
   "name": "python3"
  },
  "language_info": {
   "codemirror_mode": {
    "name": "ipython",
    "version": 3
   },
   "file_extension": ".py",
   "mimetype": "text/x-python",
   "name": "python",
   "nbconvert_exporter": "python",
   "pygments_lexer": "ipython3",
   "version": "3.12.7"
  }
 },
 "nbformat": 4,
 "nbformat_minor": 5
}
