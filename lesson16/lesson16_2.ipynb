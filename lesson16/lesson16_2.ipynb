{
 "cells": [
  {
   "cell_type": "code",
   "execution_count": null,
   "id": "24b38ba0",
   "metadata": {},
   "outputs": [],
   "source": [
    "### DataFrame的操作\n",
    "import numpy as np\n",
    "import pandas as pd#idex代表列. \n",
    "from pandas import Series,DataFrame\n",
    "\n",
    "np.random.seed(42)\n",
    "scores = np.random.randint(50,101,(50,5))\n",
    "df1:DataFrame = pd.DataFrame(scores,\n",
    "             index=[f'學號{i}' for i in range(1,51)],\n",
    "             columns=[\"國文\",\"英文\",\"數學\",\"歷史\",\"生物\"])\n",
    "df1"
   ]
  },
  {
   "cell_type": "code",
   "execution_count": null,
   "id": "b8d97d18",
   "metadata": {},
   "outputs": [],
   "source": [
    "#Series可以做陣列運算\n",
    "df_sum = df1['國文'] + df1['英文']+ df1['數學']+ df1['歷史']+ df1['生物']#敍述#陣列運算\n",
    "df_mean = df_sum / 5.0\n",
    "df_mean"
   ]
  },
  {
   "cell_type": "code",
   "execution_count": null,
   "id": "fd4c27bb",
   "metadata": {},
   "outputs": [],
   "source": [
    "#df新增欄位\n",
    "df1['總分'] = df_sum\n",
    "df1['平均'] = df_mean\n",
    "df1"
   ]
  }
 ],
 "metadata": {
  "kernelspec": {
   "display_name": "myenv",
   "language": "python",
   "name": "python3"
  },
  "language_info": {
   "codemirror_mode": {
    "name": "ipython",
    "version": 3
   },
   "file_extension": ".py",
   "mimetype": "text/x-python",
   "name": "python",
   "nbconvert_exporter": "python",
   "pygments_lexer": "ipython3",
   "version": "3.10.16"
  }
 },
 "nbformat": 4,
 "nbformat_minor": 5
}
